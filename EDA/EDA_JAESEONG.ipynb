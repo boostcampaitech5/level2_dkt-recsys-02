{
 "cells": [
  {
   "cell_type": "markdown",
   "id": "3649d949",
   "metadata": {},
   "source": [
    "## 0. 라이브러리 / 기본셋업"
   ]
  },
  {
   "cell_type": "code",
   "execution_count": 1,
   "id": "63199eb6",
   "metadata": {},
   "outputs": [],
   "source": [
    "import numpy as np\n",
    "import pandas as pd\n",
    "import matplotlib.pyplot as plt\n",
    "import seaborn as sns; sns.set_theme(color_codes=True)"
   ]
  },
  {
   "cell_type": "code",
   "execution_count": 2,
   "id": "edb5d99c",
   "metadata": {},
   "outputs": [],
   "source": [
    "import warnings\n",
    "warnings.filterwarnings(\"ignore\")"
   ]
  },
  {
   "cell_type": "code",
   "execution_count": 3,
   "id": "592bfc8e",
   "metadata": {},
   "outputs": [
    {
     "name": "stdout",
     "output_type": "stream",
     "text": [
      "Wall time: 4.58 s\n"
     ]
    }
   ],
   "source": [
    "%%time\n",
    "dtype = {\n",
    "    'userID': 'int16',\n",
    "    'answerCode': 'int8',\n",
    "    'KnowledgeTag': 'int16'\n",
    "}   \n",
    "\n",
    "# 데이터 경로 맞춰주세요!\n",
    "# 혹시 코랩환경을 사용하신다면 왼쪽 폴더모양 아이콘을 눌러 \"train_data.csv\"를 드래그&드롭으로 업로드한 후 사용해주세요\n",
    "DATA_PATH = './data/train_data.csv'\n",
    "df = pd.read_csv(DATA_PATH, dtype=dtype, parse_dates=['Timestamp'])\n",
    "df = df.sort_values(by=['userID', 'Timestamp']).reset_index(drop=True)"
   ]
  },
  {
   "cell_type": "markdown",
   "id": "069dd36a",
   "metadata": {},
   "source": [
    "## 1.1 기본적인 내용 파악"
   ]
  },
  {
   "cell_type": "markdown",
   "id": "e545edcf",
   "metadata": {},
   "source": [
    "정리하면,   \n",
    "+ `userID` 사용자의 고유 번호입니다. 총 7,442명의 학생이 있습니다.   \n",
    "+ `assessmentItemID` 사용자가 푼 문항의 일련 번호입니다.   \n",
    "+ `testId` 사용자가 푼 문항이 포함된 시험지의 일련 번호입니다.   \n",
    "+ `answerCode` 사용자가 푼 문항의 정답 여부를 담고 있는 이진 (0/1) 데이터입니다.   \n",
    "+ `Timestamp` 사용자가 문항을 푼 시간 정보입니다.   \n",
    "+ `KnowledgeTag` 사용자가 푼 문항의 고유 태그가 담겨져 있습니다.   \n",
    "특성 별로 자세히 살펴봅시다."
   ]
  },
  {
   "cell_type": "markdown",
   "id": "6174e679",
   "metadata": {},
   "source": [
    "### 특성의 기본 정보"
   ]
  },
  {
   "cell_type": "code",
   "execution_count": 4,
   "id": "19045c89",
   "metadata": {},
   "outputs": [
    {
     "data": {
      "text/html": [
       "<div>\n",
       "<style scoped>\n",
       "    .dataframe tbody tr th:only-of-type {\n",
       "        vertical-align: middle;\n",
       "    }\n",
       "\n",
       "    .dataframe tbody tr th {\n",
       "        vertical-align: top;\n",
       "    }\n",
       "\n",
       "    .dataframe thead th {\n",
       "        text-align: right;\n",
       "    }\n",
       "</style>\n",
       "<table border=\"1\" class=\"dataframe\">\n",
       "  <thead>\n",
       "    <tr style=\"text-align: right;\">\n",
       "      <th></th>\n",
       "      <th>userID</th>\n",
       "      <th>assessmentItemID</th>\n",
       "      <th>testId</th>\n",
       "      <th>answerCode</th>\n",
       "      <th>Timestamp</th>\n",
       "      <th>KnowledgeTag</th>\n",
       "    </tr>\n",
       "  </thead>\n",
       "  <tbody>\n",
       "    <tr>\n",
       "      <th>0</th>\n",
       "      <td>0</td>\n",
       "      <td>A060001001</td>\n",
       "      <td>A060000001</td>\n",
       "      <td>1</td>\n",
       "      <td>2020-03-24 00:17:11</td>\n",
       "      <td>7224</td>\n",
       "    </tr>\n",
       "    <tr>\n",
       "      <th>1</th>\n",
       "      <td>0</td>\n",
       "      <td>A060001002</td>\n",
       "      <td>A060000001</td>\n",
       "      <td>1</td>\n",
       "      <td>2020-03-24 00:17:14</td>\n",
       "      <td>7225</td>\n",
       "    </tr>\n",
       "    <tr>\n",
       "      <th>2</th>\n",
       "      <td>0</td>\n",
       "      <td>A060001003</td>\n",
       "      <td>A060000001</td>\n",
       "      <td>1</td>\n",
       "      <td>2020-03-24 00:17:22</td>\n",
       "      <td>7225</td>\n",
       "    </tr>\n",
       "    <tr>\n",
       "      <th>3</th>\n",
       "      <td>0</td>\n",
       "      <td>A060001004</td>\n",
       "      <td>A060000001</td>\n",
       "      <td>1</td>\n",
       "      <td>2020-03-24 00:17:29</td>\n",
       "      <td>7225</td>\n",
       "    </tr>\n",
       "    <tr>\n",
       "      <th>4</th>\n",
       "      <td>0</td>\n",
       "      <td>A060001005</td>\n",
       "      <td>A060000001</td>\n",
       "      <td>1</td>\n",
       "      <td>2020-03-24 00:17:36</td>\n",
       "      <td>7225</td>\n",
       "    </tr>\n",
       "    <tr>\n",
       "      <th>...</th>\n",
       "      <td>...</td>\n",
       "      <td>...</td>\n",
       "      <td>...</td>\n",
       "      <td>...</td>\n",
       "      <td>...</td>\n",
       "      <td>...</td>\n",
       "    </tr>\n",
       "    <tr>\n",
       "      <th>2266581</th>\n",
       "      <td>7441</td>\n",
       "      <td>A030071005</td>\n",
       "      <td>A030000071</td>\n",
       "      <td>0</td>\n",
       "      <td>2020-06-05 06:50:21</td>\n",
       "      <td>438</td>\n",
       "    </tr>\n",
       "    <tr>\n",
       "      <th>2266582</th>\n",
       "      <td>7441</td>\n",
       "      <td>A040165001</td>\n",
       "      <td>A040000165</td>\n",
       "      <td>1</td>\n",
       "      <td>2020-08-21 01:06:39</td>\n",
       "      <td>8836</td>\n",
       "    </tr>\n",
       "    <tr>\n",
       "      <th>2266583</th>\n",
       "      <td>7441</td>\n",
       "      <td>A040165002</td>\n",
       "      <td>A040000165</td>\n",
       "      <td>1</td>\n",
       "      <td>2020-08-21 01:06:50</td>\n",
       "      <td>8836</td>\n",
       "    </tr>\n",
       "    <tr>\n",
       "      <th>2266584</th>\n",
       "      <td>7441</td>\n",
       "      <td>A040165003</td>\n",
       "      <td>A040000165</td>\n",
       "      <td>1</td>\n",
       "      <td>2020-08-21 01:07:36</td>\n",
       "      <td>8836</td>\n",
       "    </tr>\n",
       "    <tr>\n",
       "      <th>2266585</th>\n",
       "      <td>7441</td>\n",
       "      <td>A040165004</td>\n",
       "      <td>A040000165</td>\n",
       "      <td>1</td>\n",
       "      <td>2020-08-21 01:08:49</td>\n",
       "      <td>8836</td>\n",
       "    </tr>\n",
       "  </tbody>\n",
       "</table>\n",
       "<p>2266586 rows × 6 columns</p>\n",
       "</div>"
      ],
      "text/plain": [
       "         userID assessmentItemID      testId  answerCode           Timestamp  \\\n",
       "0             0       A060001001  A060000001           1 2020-03-24 00:17:11   \n",
       "1             0       A060001002  A060000001           1 2020-03-24 00:17:14   \n",
       "2             0       A060001003  A060000001           1 2020-03-24 00:17:22   \n",
       "3             0       A060001004  A060000001           1 2020-03-24 00:17:29   \n",
       "4             0       A060001005  A060000001           1 2020-03-24 00:17:36   \n",
       "...         ...              ...         ...         ...                 ...   \n",
       "2266581    7441       A030071005  A030000071           0 2020-06-05 06:50:21   \n",
       "2266582    7441       A040165001  A040000165           1 2020-08-21 01:06:39   \n",
       "2266583    7441       A040165002  A040000165           1 2020-08-21 01:06:50   \n",
       "2266584    7441       A040165003  A040000165           1 2020-08-21 01:07:36   \n",
       "2266585    7441       A040165004  A040000165           1 2020-08-21 01:08:49   \n",
       "\n",
       "         KnowledgeTag  \n",
       "0                7224  \n",
       "1                7225  \n",
       "2                7225  \n",
       "3                7225  \n",
       "4                7225  \n",
       "...               ...  \n",
       "2266581           438  \n",
       "2266582          8836  \n",
       "2266583          8836  \n",
       "2266584          8836  \n",
       "2266585          8836  \n",
       "\n",
       "[2266586 rows x 6 columns]"
      ]
     },
     "execution_count": 4,
     "metadata": {},
     "output_type": "execute_result"
    }
   ],
   "source": [
    "df"
   ]
  },
  {
   "cell_type": "markdown",
   "id": "2b07fa39",
   "metadata": {},
   "source": [
    "### 피쳐별 고유 갯수"
   ]
  },
  {
   "cell_type": "code",
   "execution_count": 5,
   "id": "92686233",
   "metadata": {},
   "outputs": [
    {
     "name": "stdout",
     "output_type": "stream",
     "text": [
      "--- BASIC INFORMATIONS ---\n",
      "userID           : 6698\n",
      "assessmentItemID : 9454\n",
      "testID           : 1537\n",
      "mean answer rate : 65.44%\n",
      "KnowledgeTag     : 912\n",
      "--------------------------\n"
     ]
    }
   ],
   "source": [
    "print(f\"\"\"--- BASIC INFORMATIONS ---\n",
    "userID           : {df.userID.nunique()}\n",
    "assessmentItemID : {df.assessmentItemID.nunique()}\n",
    "testID           : {df.testId.nunique()}\n",
    "mean answer rate : {df.answerCode.sum() / df.shape[0] * 100:.2f}%\n",
    "KnowledgeTag     : {df.KnowledgeTag.nunique()}\n",
    "{'-'*26}\"\"\")"
   ]
  },
  {
   "cell_type": "markdown",
   "id": "7e62bbd1",
   "metadata": {},
   "source": [
    "### 피쳐 이름 변경"
   ]
  },
  {
   "cell_type": "code",
   "execution_count": 6,
   "id": "0241e6f4",
   "metadata": {},
   "outputs": [],
   "source": [
    "#testId -> testID\n",
    "df.columns = ['userID', 'assessmentItemID', 'testID', 'answerCode', 'Timestamp',\n",
    "       'KnowledgeTag']"
   ]
  },
  {
   "cell_type": "code",
   "execution_count": 63,
   "id": "40ea9827",
   "metadata": {},
   "outputs": [],
   "source": [
    "def percentile(s):\n",
    "    return np.sum(s) / len(s)"
   ]
  },
  {
   "cell_type": "markdown",
   "id": "0996980c",
   "metadata": {},
   "source": [
    "# 1.문제집(testID) 관련"
   ]
  },
  {
   "cell_type": "markdown",
   "id": "b3d05f91",
   "metadata": {},
   "source": [
    "### 1.1 문제집별 문항 갯수 분포\n",
    "- 문제집 별 고유문항 수는 최소 2개에서 최대 12개를 가지고 있음\n",
    "- 제일 많은 것은 5개"
   ]
  },
  {
   "cell_type": "code",
   "execution_count": 92,
   "id": "dd22743b",
   "metadata": {},
   "outputs": [
    {
     "name": "stdout",
     "output_type": "stream",
     "text": [
      "총 문제집 개수 : 9454\n",
      "          testID  assessmentItemID\n",
      "0     A010000001                 5\n",
      "1     A010000002                 5\n",
      "2     A010000003                 5\n",
      "3     A010000004                 5\n",
      "4     A010000005                 5\n",
      "...          ...               ...\n",
      "1532  A090000070                 8\n",
      "1533  A090000071                 8\n",
      "1534  A090000072                 6\n",
      "1535  A090000073                 6\n",
      "1536  A090000074                 6\n",
      "\n",
      "[1537 rows x 2 columns]\n"
     ]
    }
   ],
   "source": [
    "test_ass = df.groupby('testID')['assessmentItemID'].nunique().reset_index()\n",
    "print('총 문제집 개수 :',np.sum(test_ass['assessmentItemID']))\n",
    "print(test_ass)"
   ]
  },
  {
   "cell_type": "code",
   "execution_count": 90,
   "id": "f879aad3",
   "metadata": {
    "scrolled": true
   },
   "outputs": [
    {
     "data": {
      "image/png": "[encoded data removed]",
      "text/plain": [
       "<Figure size 432x288 with 1 Axes>"
      ]
     },
     "metadata": {},
     "output_type": "display_data"
    }
   ],
   "source": [
    "fig, ax = plt.subplots()\n",
    "sns.histplot(data = test_ass, x = 'assessmentItemID', ax = ax, color=\"royalblue\")\n",
    "ax.set_xlabel('# of problems')\n",
    "ax.set_ylabel('# Count')\n",
    "ax.set_title('# of problems in test',fontsize=\"18\")\n",
    "# ax.set_xticks(range(len(test_ass['assessmentItemID'].unique())))\n",
    "plt.show()"
   ]
  },
  {
   "cell_type": "markdown",
   "id": "19ea9b8c",
   "metadata": {},
   "source": [
    "### 1.2 문제집별 정답률 \n",
    "- 문제집의 최고 정답률 : 95.55, 최소 정답률 : 32.72, 정답률 평균 : 66.79"
   ]
  },
  {
   "cell_type": "code",
   "execution_count": 64,
   "id": "e17e1324",
   "metadata": {
    "scrolled": true
   },
   "outputs": [
    {
     "data": {
      "text/html": [
       "<div>\n",
       "<style scoped>\n",
       "    .dataframe tbody tr th:only-of-type {\n",
       "        vertical-align: middle;\n",
       "    }\n",
       "\n",
       "    .dataframe tbody tr th {\n",
       "        vertical-align: top;\n",
       "    }\n",
       "\n",
       "    .dataframe thead th {\n",
       "        text-align: right;\n",
       "    }\n",
       "</style>\n",
       "<table border=\"1\" class=\"dataframe\">\n",
       "  <thead>\n",
       "    <tr style=\"text-align: right;\">\n",
       "      <th></th>\n",
       "      <th>userID</th>\n",
       "      <th>answerCode</th>\n",
       "    </tr>\n",
       "  </thead>\n",
       "  <tbody>\n",
       "    <tr>\n",
       "      <th>count</th>\n",
       "      <td>1537.000000</td>\n",
       "      <td>1537.000000</td>\n",
       "    </tr>\n",
       "    <tr>\n",
       "      <th>mean</th>\n",
       "      <td>1474.681848</td>\n",
       "      <td>0.667982</td>\n",
       "    </tr>\n",
       "    <tr>\n",
       "      <th>std</th>\n",
       "      <td>533.526783</td>\n",
       "      <td>0.138903</td>\n",
       "    </tr>\n",
       "    <tr>\n",
       "      <th>min</th>\n",
       "      <td>172.000000</td>\n",
       "      <td>0.327186</td>\n",
       "    </tr>\n",
       "    <tr>\n",
       "      <th>25%</th>\n",
       "      <td>1320.000000</td>\n",
       "      <td>0.561819</td>\n",
       "    </tr>\n",
       "    <tr>\n",
       "      <th>50%</th>\n",
       "      <td>1400.000000</td>\n",
       "      <td>0.680519</td>\n",
       "    </tr>\n",
       "    <tr>\n",
       "      <th>75%</th>\n",
       "      <td>1602.000000</td>\n",
       "      <td>0.778439</td>\n",
       "    </tr>\n",
       "    <tr>\n",
       "      <th>max</th>\n",
       "      <td>3960.000000</td>\n",
       "      <td>0.955474</td>\n",
       "    </tr>\n",
       "  </tbody>\n",
       "</table>\n",
       "</div>"
      ],
      "text/plain": [
       "            userID   answerCode\n",
       "count  1537.000000  1537.000000\n",
       "mean   1474.681848     0.667982\n",
       "std     533.526783     0.138903\n",
       "min     172.000000     0.327186\n",
       "25%    1320.000000     0.561819\n",
       "50%    1400.000000     0.680519\n",
       "75%    1602.000000     0.778439\n",
       "max    3960.000000     0.955474"
      ]
     },
     "execution_count": 64,
     "metadata": {},
     "output_type": "execute_result"
    }
   ],
   "source": [
    "test_groupby = df.groupby('testID').agg({\n",
    "    'userID': 'count',\n",
    "    'answerCode': percentile\n",
    "})\n",
    "test_groupby.describe()"
   ]
  },
  {
   "cell_type": "code",
   "execution_count": 107,
   "id": "d77a0238",
   "metadata": {
    "scrolled": true
   },
   "outputs": [
    {
     "data": {
      "image/png": "[encoded data removed]",
      "text/plain": [
       "<Figure size 432x288 with 1 Axes>"
      ]
     },
     "metadata": {},
     "output_type": "display_data"
    }
   ],
   "source": [
    "fig, ax = plt.subplots()\n",
    "test_groupby['answerCode'].hist(bins=20,color = 'royalblue')\n",
    "ax.set_title('Test Answer Rate Histogram')\n",
    "ax.set_xlabel('Answer Rate')\n",
    "ax.set_ylabel('Count')\n",
    "ax.axvline(test_groupby['answerCode'].mean(), color='red')\n",
    "ax.grid(b=True)"
   ]
  },
  {
   "cell_type": "markdown",
   "id": "bca272b1",
   "metadata": {},
   "source": [
    "# 2. 유저 관련 EDA"
   ]
  },
  {
   "cell_type": "markdown",
   "id": "a838b6a3",
   "metadata": {},
   "source": [
    "### 2.1 유저별로 몇개의 문항을 풀었는지\n",
    "- 학생이 제일 많이 푼 문항은 1860개, 제일 적은 문항은 9개 "
   ]
  },
  {
   "cell_type": "code",
   "execution_count": 108,
   "id": "6557bb5b",
   "metadata": {
    "scrolled": false
   },
   "outputs": [
    {
     "data": {
      "text/plain": [
       "count    6698.000000\n",
       "mean      338.397432\n",
       "std       321.331429\n",
       "min         9.000000\n",
       "25%        78.000000\n",
       "50%       231.500000\n",
       "75%       513.000000\n",
       "max      1860.000000\n",
       "Name: assessmentItemID, dtype: float64"
      ]
     },
     "execution_count": 108,
     "metadata": {},
     "output_type": "execute_result"
    }
   ],
   "source": [
    "df.groupby(['userID'])['assessmentItemID'].count().describe()"
   ]
  },
  {
   "cell_type": "code",
   "execution_count": 109,
   "id": "be24b592",
   "metadata": {},
   "outputs": [
    {
     "data": {
      "text/plain": [
       "Text(0.5, 1.0, '# of Questions - Answer Rate')"
      ]
     },
     "execution_count": 109,
     "metadata": {},
     "output_type": "execute_result"
    },
    {
     "data": {
      "image/png": "[encoded data removed]",
      "text/plain": [
       "<Figure size 360x360 with 1 Axes>"
      ]
     },
     "metadata": {},
     "output_type": "display_data"
    }
   ],
   "source": [
    "user_ass = df.groupby('userID').agg({'assessmentItemID' : 'count' , 'answerCode': percentile})\n",
    "g = sns.lmplot(data = user_ass,x = 'assessmentItemID', y = 'answerCode')\n",
    "g.set_xlabels('# of Questions solved')\n",
    "g.set_ylabels('Answer Rate')\n",
    "g.set(xlim=(-30, 1900))\n",
    "\n",
    "ax = plt.gca()\n",
    "ax.set_title('# of Questions - Answer Rate')"
   ]
  },
  {
   "cell_type": "code",
   "execution_count": 110,
   "id": "8d559dc6",
   "metadata": {},
   "outputs": [
    {
     "data": {
      "text/html": [
       "<div>\n",
       "<style scoped>\n",
       "    .dataframe tbody tr th:only-of-type {\n",
       "        vertical-align: middle;\n",
       "    }\n",
       "\n",
       "    .dataframe tbody tr th {\n",
       "        vertical-align: top;\n",
       "    }\n",
       "\n",
       "    .dataframe thead th {\n",
       "        text-align: right;\n",
       "    }\n",
       "</style>\n",
       "<table border=\"1\" class=\"dataframe\">\n",
       "  <thead>\n",
       "    <tr style=\"text-align: right;\">\n",
       "      <th></th>\n",
       "      <th>assessmentItemID</th>\n",
       "      <th>answerCode</th>\n",
       "    </tr>\n",
       "  </thead>\n",
       "  <tbody>\n",
       "    <tr>\n",
       "      <th>count</th>\n",
       "      <td>6698.000000</td>\n",
       "      <td>6698.000000</td>\n",
       "    </tr>\n",
       "    <tr>\n",
       "      <th>mean</th>\n",
       "      <td>338.397432</td>\n",
       "      <td>0.628909</td>\n",
       "    </tr>\n",
       "    <tr>\n",
       "      <th>std</th>\n",
       "      <td>321.331429</td>\n",
       "      <td>0.159639</td>\n",
       "    </tr>\n",
       "    <tr>\n",
       "      <th>min</th>\n",
       "      <td>9.000000</td>\n",
       "      <td>0.000000</td>\n",
       "    </tr>\n",
       "    <tr>\n",
       "      <th>25%</th>\n",
       "      <td>78.000000</td>\n",
       "      <td>0.527273</td>\n",
       "    </tr>\n",
       "    <tr>\n",
       "      <th>50%</th>\n",
       "      <td>231.500000</td>\n",
       "      <td>0.651757</td>\n",
       "    </tr>\n",
       "    <tr>\n",
       "      <th>75%</th>\n",
       "      <td>513.000000</td>\n",
       "      <td>0.751203</td>\n",
       "    </tr>\n",
       "    <tr>\n",
       "      <th>max</th>\n",
       "      <td>1860.000000</td>\n",
       "      <td>1.000000</td>\n",
       "    </tr>\n",
       "  </tbody>\n",
       "</table>\n",
       "</div>"
      ],
      "text/plain": [
       "       assessmentItemID   answerCode\n",
       "count       6698.000000  6698.000000\n",
       "mean         338.397432     0.628909\n",
       "std          321.331429     0.159639\n",
       "min            9.000000     0.000000\n",
       "25%           78.000000     0.527273\n",
       "50%          231.500000     0.651757\n",
       "75%          513.000000     0.751203\n",
       "max         1860.000000     1.000000"
      ]
     },
     "execution_count": 110,
     "metadata": {},
     "output_type": "execute_result"
    }
   ],
   "source": [
    "user_ass.describe()"
   ]
  },
  {
   "cell_type": "markdown",
   "id": "2932e254",
   "metadata": {},
   "source": [
    "### 2.2 유저/문제집"
   ]
  },
  {
   "cell_type": "markdown",
   "id": "5f73b8dc",
   "metadata": {},
   "source": [
    "문제집을 최소 2개는 풀어봄, 최대 300개 풀어본 유저도 있다"
   ]
  },
  {
   "cell_type": "code",
   "execution_count": 111,
   "id": "94d4e8b7",
   "metadata": {},
   "outputs": [],
   "source": [
    "user_test_nq = df.groupby('userID')[['testID']].nunique()"
   ]
  },
  {
   "cell_type": "code",
   "execution_count": 160,
   "id": "41d557d7",
   "metadata": {},
   "outputs": [
    {
     "data": {
      "text/html": [
       "<div>\n",
       "<style scoped>\n",
       "    .dataframe tbody tr th:only-of-type {\n",
       "        vertical-align: middle;\n",
       "    }\n",
       "\n",
       "    .dataframe tbody tr th {\n",
       "        vertical-align: top;\n",
       "    }\n",
       "\n",
       "    .dataframe thead th {\n",
       "        text-align: right;\n",
       "    }\n",
       "</style>\n",
       "<table border=\"1\" class=\"dataframe\">\n",
       "  <thead>\n",
       "    <tr style=\"text-align: right;\">\n",
       "      <th></th>\n",
       "      <th>testID</th>\n",
       "    </tr>\n",
       "    <tr>\n",
       "      <th>userID</th>\n",
       "      <th></th>\n",
       "    </tr>\n",
       "  </thead>\n",
       "  <tbody>\n",
       "    <tr>\n",
       "      <th>0</th>\n",
       "      <td>104</td>\n",
       "    </tr>\n",
       "    <tr>\n",
       "      <th>1</th>\n",
       "      <td>153</td>\n",
       "    </tr>\n",
       "    <tr>\n",
       "      <th>2</th>\n",
       "      <td>48</td>\n",
       "    </tr>\n",
       "    <tr>\n",
       "      <th>5</th>\n",
       "      <td>119</td>\n",
       "    </tr>\n",
       "    <tr>\n",
       "      <th>6</th>\n",
       "      <td>169</td>\n",
       "    </tr>\n",
       "    <tr>\n",
       "      <th>...</th>\n",
       "      <td>...</td>\n",
       "    </tr>\n",
       "    <tr>\n",
       "      <th>7436</th>\n",
       "      <td>3</td>\n",
       "    </tr>\n",
       "    <tr>\n",
       "      <th>7437</th>\n",
       "      <td>3</td>\n",
       "    </tr>\n",
       "    <tr>\n",
       "      <th>7438</th>\n",
       "      <td>3</td>\n",
       "    </tr>\n",
       "    <tr>\n",
       "      <th>7440</th>\n",
       "      <td>3</td>\n",
       "    </tr>\n",
       "    <tr>\n",
       "      <th>7441</th>\n",
       "      <td>2</td>\n",
       "    </tr>\n",
       "  </tbody>\n",
       "</table>\n",
       "<p>6698 rows × 1 columns</p>\n",
       "</div>"
      ],
      "text/plain": [
       "        testID\n",
       "userID        \n",
       "0          104\n",
       "1          153\n",
       "2           48\n",
       "5          119\n",
       "6          169\n",
       "...        ...\n",
       "7436         3\n",
       "7437         3\n",
       "7438         3\n",
       "7440         3\n",
       "7441         2\n",
       "\n",
       "[6698 rows x 1 columns]"
      ]
     },
     "execution_count": 160,
     "metadata": {},
     "output_type": "execute_result"
    }
   ],
   "source": [
    "user_test_nq"
   ]
  },
  {
   "cell_type": "code",
   "execution_count": 157,
   "id": "4f63e7f6",
   "metadata": {},
   "outputs": [],
   "source": [
    "user_test_ans = df.groupby('userID').agg({'answerCode': percentile})"
   ]
  },
  {
   "cell_type": "code",
   "execution_count": 159,
   "id": "595dc3d2",
   "metadata": {},
   "outputs": [
    {
     "data": {
      "text/html": [
       "<div>\n",
       "<style scoped>\n",
       "    .dataframe tbody tr th:only-of-type {\n",
       "        vertical-align: middle;\n",
       "    }\n",
       "\n",
       "    .dataframe tbody tr th {\n",
       "        vertical-align: top;\n",
       "    }\n",
       "\n",
       "    .dataframe thead th {\n",
       "        text-align: right;\n",
       "    }\n",
       "</style>\n",
       "<table border=\"1\" class=\"dataframe\">\n",
       "  <thead>\n",
       "    <tr style=\"text-align: right;\">\n",
       "      <th></th>\n",
       "      <th>answerCode</th>\n",
       "    </tr>\n",
       "    <tr>\n",
       "      <th>userID</th>\n",
       "      <th></th>\n",
       "    </tr>\n",
       "  </thead>\n",
       "  <tbody>\n",
       "    <tr>\n",
       "      <th>0</th>\n",
       "      <td>0.630872</td>\n",
       "    </tr>\n",
       "    <tr>\n",
       "      <th>1</th>\n",
       "      <td>0.853162</td>\n",
       "    </tr>\n",
       "    <tr>\n",
       "      <th>2</th>\n",
       "      <td>0.612319</td>\n",
       "    </tr>\n",
       "    <tr>\n",
       "      <th>5</th>\n",
       "      <td>0.795918</td>\n",
       "    </tr>\n",
       "    <tr>\n",
       "      <th>6</th>\n",
       "      <td>0.442997</td>\n",
       "    </tr>\n",
       "    <tr>\n",
       "      <th>...</th>\n",
       "      <td>...</td>\n",
       "    </tr>\n",
       "    <tr>\n",
       "      <th>7436</th>\n",
       "      <td>0.466667</td>\n",
       "    </tr>\n",
       "    <tr>\n",
       "      <th>7437</th>\n",
       "      <td>0.375000</td>\n",
       "    </tr>\n",
       "    <tr>\n",
       "      <th>7438</th>\n",
       "      <td>0.750000</td>\n",
       "    </tr>\n",
       "    <tr>\n",
       "      <th>7440</th>\n",
       "      <td>0.400000</td>\n",
       "    </tr>\n",
       "    <tr>\n",
       "      <th>7441</th>\n",
       "      <td>0.555556</td>\n",
       "    </tr>\n",
       "  </tbody>\n",
       "</table>\n",
       "<p>6698 rows × 1 columns</p>\n",
       "</div>"
      ],
      "text/plain": [
       "        answerCode\n",
       "userID            \n",
       "0         0.630872\n",
       "1         0.853162\n",
       "2         0.612319\n",
       "5         0.795918\n",
       "6         0.442997\n",
       "...            ...\n",
       "7436      0.466667\n",
       "7437      0.375000\n",
       "7438      0.750000\n",
       "7440      0.400000\n",
       "7441      0.555556\n",
       "\n",
       "[6698 rows x 1 columns]"
      ]
     },
     "execution_count": 159,
     "metadata": {},
     "output_type": "execute_result"
    }
   ],
   "source": [
    "user_test_ans"
   ]
  },
  {
   "cell_type": "code",
   "execution_count": 168,
   "id": "895a08b3",
   "metadata": {},
   "outputs": [
    {
     "data": {
      "text/html": [
       "<div>\n",
       "<style scoped>\n",
       "    .dataframe tbody tr th:only-of-type {\n",
       "        vertical-align: middle;\n",
       "    }\n",
       "\n",
       "    .dataframe tbody tr th {\n",
       "        vertical-align: top;\n",
       "    }\n",
       "\n",
       "    .dataframe thead th {\n",
       "        text-align: right;\n",
       "    }\n",
       "</style>\n",
       "<table border=\"1\" class=\"dataframe\">\n",
       "  <thead>\n",
       "    <tr style=\"text-align: right;\">\n",
       "      <th></th>\n",
       "      <th>key_0</th>\n",
       "      <th>testID</th>\n",
       "      <th>answerCode</th>\n",
       "    </tr>\n",
       "  </thead>\n",
       "  <tbody>\n",
       "    <tr>\n",
       "      <th>key_0</th>\n",
       "      <td>1.000000</td>\n",
       "      <td>-0.801831</td>\n",
       "      <td>-0.166004</td>\n",
       "    </tr>\n",
       "    <tr>\n",
       "      <th>testID</th>\n",
       "      <td>-0.801831</td>\n",
       "      <td>1.000000</td>\n",
       "      <td>0.211643</td>\n",
       "    </tr>\n",
       "    <tr>\n",
       "      <th>answerCode</th>\n",
       "      <td>-0.166004</td>\n",
       "      <td>0.211643</td>\n",
       "      <td>1.000000</td>\n",
       "    </tr>\n",
       "  </tbody>\n",
       "</table>\n",
       "</div>"
      ],
      "text/plain": [
       "               key_0    testID  answerCode\n",
       "key_0       1.000000 -0.801831   -0.166004\n",
       "testID     -0.801831  1.000000    0.211643\n",
       "answerCode -0.166004  0.211643    1.000000"
      ]
     },
     "execution_count": 168,
     "metadata": {},
     "output_type": "execute_result"
    }
   ],
   "source": [
    "testid_ans.corr()"
   ]
  },
  {
   "cell_type": "code",
   "execution_count": 166,
   "id": "1aef7367",
   "metadata": {},
   "outputs": [
    {
     "data": {
      "text/plain": [
       "<AxesSubplot:xlabel='testID'>"
      ]
     },
     "execution_count": 166,
     "metadata": {},
     "output_type": "execute_result"
    },
    {
     "data": {
      "image/png": "[encoded data removed]",
      "text/plain": [
       "<Figure size 432x288 with 1 Axes>"
      ]
     },
     "metadata": {},
     "output_type": "display_data"
    }
   ],
   "source": [
    "testid_ans = user_test_nq.merge(user_test_ans, on =user_test_nq.index)\n",
    "testid_ans.groupby('testID')['answerCode'].mean().plot()"
   ]
  },
  {
   "cell_type": "code",
   "execution_count": 164,
   "id": "d2da9b4c",
   "metadata": {},
   "outputs": [
    {
     "data": {
      "text/html": [
       "<div>\n",
       "<style scoped>\n",
       "    .dataframe tbody tr th:only-of-type {\n",
       "        vertical-align: middle;\n",
       "    }\n",
       "\n",
       "    .dataframe tbody tr th {\n",
       "        vertical-align: top;\n",
       "    }\n",
       "\n",
       "    .dataframe thead th {\n",
       "        text-align: right;\n",
       "    }\n",
       "</style>\n",
       "<table border=\"1\" class=\"dataframe\">\n",
       "  <thead>\n",
       "    <tr style=\"text-align: right;\">\n",
       "      <th></th>\n",
       "      <th>key_0</th>\n",
       "      <th>testID</th>\n",
       "      <th>answerCode</th>\n",
       "    </tr>\n",
       "  </thead>\n",
       "  <tbody>\n",
       "    <tr>\n",
       "      <th>0</th>\n",
       "      <td>0</td>\n",
       "      <td>104</td>\n",
       "      <td>0.630872</td>\n",
       "    </tr>\n",
       "    <tr>\n",
       "      <th>1</th>\n",
       "      <td>1</td>\n",
       "      <td>153</td>\n",
       "      <td>0.853162</td>\n",
       "    </tr>\n",
       "    <tr>\n",
       "      <th>2</th>\n",
       "      <td>2</td>\n",
       "      <td>48</td>\n",
       "      <td>0.612319</td>\n",
       "    </tr>\n",
       "    <tr>\n",
       "      <th>3</th>\n",
       "      <td>5</td>\n",
       "      <td>119</td>\n",
       "      <td>0.795918</td>\n",
       "    </tr>\n",
       "    <tr>\n",
       "      <th>4</th>\n",
       "      <td>6</td>\n",
       "      <td>169</td>\n",
       "      <td>0.442997</td>\n",
       "    </tr>\n",
       "    <tr>\n",
       "      <th>...</th>\n",
       "      <td>...</td>\n",
       "      <td>...</td>\n",
       "      <td>...</td>\n",
       "    </tr>\n",
       "    <tr>\n",
       "      <th>6693</th>\n",
       "      <td>7436</td>\n",
       "      <td>3</td>\n",
       "      <td>0.466667</td>\n",
       "    </tr>\n",
       "    <tr>\n",
       "      <th>6694</th>\n",
       "      <td>7437</td>\n",
       "      <td>3</td>\n",
       "      <td>0.375000</td>\n",
       "    </tr>\n",
       "    <tr>\n",
       "      <th>6695</th>\n",
       "      <td>7438</td>\n",
       "      <td>3</td>\n",
       "      <td>0.750000</td>\n",
       "    </tr>\n",
       "    <tr>\n",
       "      <th>6696</th>\n",
       "      <td>7440</td>\n",
       "      <td>3</td>\n",
       "      <td>0.400000</td>\n",
       "    </tr>\n",
       "    <tr>\n",
       "      <th>6697</th>\n",
       "      <td>7441</td>\n",
       "      <td>2</td>\n",
       "      <td>0.555556</td>\n",
       "    </tr>\n",
       "  </tbody>\n",
       "</table>\n",
       "<p>6698 rows × 3 columns</p>\n",
       "</div>"
      ],
      "text/plain": [
       "      key_0  testID  answerCode\n",
       "0         0     104    0.630872\n",
       "1         1     153    0.853162\n",
       "2         2      48    0.612319\n",
       "3         5     119    0.795918\n",
       "4         6     169    0.442997\n",
       "...     ...     ...         ...\n",
       "6693   7436       3    0.466667\n",
       "6694   7437       3    0.375000\n",
       "6695   7438       3    0.750000\n",
       "6696   7440       3    0.400000\n",
       "6697   7441       2    0.555556\n",
       "\n",
       "[6698 rows x 3 columns]"
      ]
     },
     "execution_count": 164,
     "metadata": {},
     "output_type": "execute_result"
    }
   ],
   "source": [
    "testid_ans"
   ]
  },
  {
   "cell_type": "markdown",
   "id": "6b5ecc0f",
   "metadata": {},
   "source": [
    "### 유저가 푼 문제집 수 대비 정답률\n",
    "- 문제집을 많이 풀 수록 정답률이 올라가는 경향을 보이는데 특정 문제집 수에서 매우 낮은 정답률 분포를 가짐\n",
    "- 문제집 279개를 푼 유저가 있는데 정답률 평균이 0.12밖에 안된다 -> 한명의 유저가 279개의 문제집을 풀었는데 정답률이 0.12??\n",
    "- 푼 문제집을 구간화하여 피쳐만들기 -> 누적 문제집으로 해야할듯?"
   ]
  },
  {
   "cell_type": "code",
   "execution_count": 219,
   "id": "6f40985c",
   "metadata": {
    "scrolled": true
   },
   "outputs": [
    {
     "data": {
      "text/plain": [
       "<seaborn.axisgrid.FacetGrid at 0x18c3ce228d0>"
      ]
     },
     "execution_count": 219,
     "metadata": {},
     "output_type": "execute_result"
    },
    {
     "data": {
      "image/png": "[encoded data removed]",
      "text/plain": [
       "<Figure size 360x360 with 1 Axes>"
      ]
     },
     "metadata": {},
     "output_type": "display_data"
    }
   ],
   "source": [
    "user_test_nq = df.groupby('userID')[['testID']].nunique()\n",
    "testid_ans = df.merge(user_test_nq,on = 'userID')\n",
    "testid_ans_mean = df.merge(user_test_nq,on = 'userID').groupby('testID_y')[['answerCode']].mean().reset_index()\n",
    "sns.lmplot(data = testid_ans_mean , x = 'testID_y',y='answerCode',line_kws={\"color\": \"orange\"})"
   ]
  },
  {
   "cell_type": "code",
   "execution_count": 117,
   "id": "f1d932dd",
   "metadata": {},
   "outputs": [
    {
     "data": {
      "text/html": [
       "<div>\n",
       "<style scoped>\n",
       "    .dataframe tbody tr th:only-of-type {\n",
       "        vertical-align: middle;\n",
       "    }\n",
       "\n",
       "    .dataframe tbody tr th {\n",
       "        vertical-align: top;\n",
       "    }\n",
       "\n",
       "    .dataframe thead th {\n",
       "        text-align: right;\n",
       "    }\n",
       "</style>\n",
       "<table border=\"1\" class=\"dataframe\">\n",
       "  <thead>\n",
       "    <tr style=\"text-align: right;\">\n",
       "      <th></th>\n",
       "      <th>testID_y</th>\n",
       "      <th>answerCode</th>\n",
       "    </tr>\n",
       "  </thead>\n",
       "  <tbody>\n",
       "    <tr>\n",
       "      <th>0</th>\n",
       "      <td>2</td>\n",
       "      <td>0.555556</td>\n",
       "    </tr>\n",
       "    <tr>\n",
       "      <th>1</th>\n",
       "      <td>3</td>\n",
       "      <td>0.556114</td>\n",
       "    </tr>\n",
       "    <tr>\n",
       "      <th>2</th>\n",
       "      <td>4</td>\n",
       "      <td>0.554010</td>\n",
       "    </tr>\n",
       "    <tr>\n",
       "      <th>3</th>\n",
       "      <td>5</td>\n",
       "      <td>0.568391</td>\n",
       "    </tr>\n",
       "    <tr>\n",
       "      <th>4</th>\n",
       "      <td>6</td>\n",
       "      <td>0.570538</td>\n",
       "    </tr>\n",
       "    <tr>\n",
       "      <th>...</th>\n",
       "      <td>...</td>\n",
       "      <td>...</td>\n",
       "    </tr>\n",
       "    <tr>\n",
       "      <th>242</th>\n",
       "      <td>274</td>\n",
       "      <td>0.594642</td>\n",
       "    </tr>\n",
       "    <tr>\n",
       "      <th>243</th>\n",
       "      <td>279</td>\n",
       "      <td>0.124526</td>\n",
       "    </tr>\n",
       "    <tr>\n",
       "      <th>244</th>\n",
       "      <td>281</td>\n",
       "      <td>0.656162</td>\n",
       "    </tr>\n",
       "    <tr>\n",
       "      <th>245</th>\n",
       "      <td>286</td>\n",
       "      <td>0.818047</td>\n",
       "    </tr>\n",
       "    <tr>\n",
       "      <th>246</th>\n",
       "      <td>301</td>\n",
       "      <td>0.807361</td>\n",
       "    </tr>\n",
       "  </tbody>\n",
       "</table>\n",
       "<p>247 rows × 2 columns</p>\n",
       "</div>"
      ],
      "text/plain": [
       "     testID_y  answerCode\n",
       "0           2    0.555556\n",
       "1           3    0.556114\n",
       "2           4    0.554010\n",
       "3           5    0.568391\n",
       "4           6    0.570538\n",
       "..        ...         ...\n",
       "242       274    0.594642\n",
       "243       279    0.124526\n",
       "244       281    0.656162\n",
       "245       286    0.818047\n",
       "246       301    0.807361\n",
       "\n",
       "[247 rows x 2 columns]"
      ]
     },
     "execution_count": 117,
     "metadata": {},
     "output_type": "execute_result"
    }
   ],
   "source": [
    "testid_ans_mean"
   ]
  },
  {
   "cell_type": "code",
   "execution_count": 116,
   "id": "41779d7f",
   "metadata": {},
   "outputs": [
    {
     "data": {
      "text/plain": [
       "0.5358880582192541"
      ]
     },
     "execution_count": 116,
     "metadata": {},
     "output_type": "execute_result"
    }
   ],
   "source": [
    "testid_ans_mean.corr()['answerCode']['testID_y']"
   ]
  },
  {
   "cell_type": "code",
   "execution_count": 118,
   "id": "1396287a",
   "metadata": {
    "scrolled": true
   },
   "outputs": [
    {
     "name": "stdout",
     "output_type": "stream",
     "text": [
      "푼 문제집의 수와 퍙균 정답률 사이 상관관계: 0.536\n"
     ]
    }
   ],
   "source": [
    "print(f\"푼 문제집의 수와 퍙균 정답률 사이 상관관계: {testid_ans_mean.corr()['answerCode']['testID_y']:.3f}\")"
   ]
  },
  {
   "cell_type": "code",
   "execution_count": 25,
   "id": "5eca9090",
   "metadata": {},
   "outputs": [
    {
     "data": {
      "text/html": [
       "<div>\n",
       "<style scoped>\n",
       "    .dataframe tbody tr th:only-of-type {\n",
       "        vertical-align: middle;\n",
       "    }\n",
       "\n",
       "    .dataframe tbody tr th {\n",
       "        vertical-align: top;\n",
       "    }\n",
       "\n",
       "    .dataframe thead th {\n",
       "        text-align: right;\n",
       "    }\n",
       "</style>\n",
       "<table border=\"1\" class=\"dataframe\">\n",
       "  <thead>\n",
       "    <tr style=\"text-align: right;\">\n",
       "      <th></th>\n",
       "      <th>유저</th>\n",
       "      <th>문항</th>\n",
       "      <th>문제집_x</th>\n",
       "      <th>정답</th>\n",
       "      <th>시간</th>\n",
       "      <th>태그</th>\n",
       "      <th>문제집_y</th>\n",
       "    </tr>\n",
       "  </thead>\n",
       "  <tbody>\n",
       "    <tr>\n",
       "      <th>354395</th>\n",
       "      <td>481</td>\n",
       "      <td>A070003001</td>\n",
       "      <td>A070000003</td>\n",
       "      <td>0</td>\n",
       "      <td>2020-03-01 02:47:37</td>\n",
       "      <td>3793</td>\n",
       "      <td>279</td>\n",
       "    </tr>\n",
       "    <tr>\n",
       "      <th>354396</th>\n",
       "      <td>481</td>\n",
       "      <td>A070003002</td>\n",
       "      <td>A070000003</td>\n",
       "      <td>0</td>\n",
       "      <td>2020-03-01 02:47:43</td>\n",
       "      <td>3793</td>\n",
       "      <td>279</td>\n",
       "    </tr>\n",
       "    <tr>\n",
       "      <th>354397</th>\n",
       "      <td>481</td>\n",
       "      <td>A070003003</td>\n",
       "      <td>A070000003</td>\n",
       "      <td>0</td>\n",
       "      <td>2020-03-01 02:47:46</td>\n",
       "      <td>3793</td>\n",
       "      <td>279</td>\n",
       "    </tr>\n",
       "    <tr>\n",
       "      <th>354398</th>\n",
       "      <td>481</td>\n",
       "      <td>A070003004</td>\n",
       "      <td>A070000003</td>\n",
       "      <td>1</td>\n",
       "      <td>2020-03-01 02:47:50</td>\n",
       "      <td>117</td>\n",
       "      <td>279</td>\n",
       "    </tr>\n",
       "    <tr>\n",
       "      <th>354399</th>\n",
       "      <td>481</td>\n",
       "      <td>A070003005</td>\n",
       "      <td>A070000003</td>\n",
       "      <td>0</td>\n",
       "      <td>2020-03-01 02:47:53</td>\n",
       "      <td>3792</td>\n",
       "      <td>279</td>\n",
       "    </tr>\n",
       "    <tr>\n",
       "      <th>...</th>\n",
       "      <td>...</td>\n",
       "      <td>...</td>\n",
       "      <td>...</td>\n",
       "      <td>...</td>\n",
       "      <td>...</td>\n",
       "      <td>...</td>\n",
       "      <td>...</td>\n",
       "    </tr>\n",
       "    <tr>\n",
       "      <th>356237</th>\n",
       "      <td>481</td>\n",
       "      <td>A070130004</td>\n",
       "      <td>A070000130</td>\n",
       "      <td>1</td>\n",
       "      <td>2020-12-29 02:08:36</td>\n",
       "      <td>9069</td>\n",
       "      <td>279</td>\n",
       "    </tr>\n",
       "    <tr>\n",
       "      <th>356238</th>\n",
       "      <td>481</td>\n",
       "      <td>A070130005</td>\n",
       "      <td>A070000130</td>\n",
       "      <td>0</td>\n",
       "      <td>2020-12-29 02:08:40</td>\n",
       "      <td>9067</td>\n",
       "      <td>279</td>\n",
       "    </tr>\n",
       "    <tr>\n",
       "      <th>356239</th>\n",
       "      <td>481</td>\n",
       "      <td>A070130006</td>\n",
       "      <td>A070000130</td>\n",
       "      <td>0</td>\n",
       "      <td>2020-12-29 02:08:43</td>\n",
       "      <td>9069</td>\n",
       "      <td>279</td>\n",
       "    </tr>\n",
       "    <tr>\n",
       "      <th>356240</th>\n",
       "      <td>481</td>\n",
       "      <td>A070130007</td>\n",
       "      <td>A070000130</td>\n",
       "      <td>1</td>\n",
       "      <td>2020-12-29 02:08:45</td>\n",
       "      <td>9070</td>\n",
       "      <td>279</td>\n",
       "    </tr>\n",
       "    <tr>\n",
       "      <th>356241</th>\n",
       "      <td>481</td>\n",
       "      <td>A070130008</td>\n",
       "      <td>A070000130</td>\n",
       "      <td>0</td>\n",
       "      <td>2020-12-29 02:08:48</td>\n",
       "      <td>9067</td>\n",
       "      <td>279</td>\n",
       "    </tr>\n",
       "  </tbody>\n",
       "</table>\n",
       "<p>1847 rows × 7 columns</p>\n",
       "</div>"
      ],
      "text/plain": [
       "         유저          문항       문제집_x  정답                  시간    태그  문제집_y\n",
       "354395  481  A070003001  A070000003   0 2020-03-01 02:47:37  3793    279\n",
       "354396  481  A070003002  A070000003   0 2020-03-01 02:47:43  3793    279\n",
       "354397  481  A070003003  A070000003   0 2020-03-01 02:47:46  3793    279\n",
       "354398  481  A070003004  A070000003   1 2020-03-01 02:47:50   117    279\n",
       "354399  481  A070003005  A070000003   0 2020-03-01 02:47:53  3792    279\n",
       "...     ...         ...         ...  ..                 ...   ...    ...\n",
       "356237  481  A070130004  A070000130   1 2020-12-29 02:08:36  9069    279\n",
       "356238  481  A070130005  A070000130   0 2020-12-29 02:08:40  9067    279\n",
       "356239  481  A070130006  A070000130   0 2020-12-29 02:08:43  9069    279\n",
       "356240  481  A070130007  A070000130   1 2020-12-29 02:08:45  9070    279\n",
       "356241  481  A070130008  A070000130   0 2020-12-29 02:08:48  9067    279\n",
       "\n",
       "[1847 rows x 7 columns]"
      ]
     },
     "execution_count": 25,
     "metadata": {},
     "output_type": "execute_result"
    }
   ],
   "source": [
    "testid_ans[testid_ans['문제집_y'] == 279]"
   ]
  },
  {
   "cell_type": "markdown",
   "id": "94468af6",
   "metadata": {},
   "source": [
    "### 2.4 유저의 누적으로 푼 횟수/합\n",
    "- 문제를 맞출수록 정답률의 평균이 올라가는 것을 알 수 있다?"
   ]
  },
  {
   "cell_type": "code",
   "execution_count": 113,
   "id": "25815ec4",
   "metadata": {},
   "outputs": [],
   "source": [
    "# 누적합\n",
    "_cumsum = df.loc[:, ['userID', 'answerCode']].groupby('userID').agg({'answerCode': 'cumsum'})\n",
    "# 누적갯수\n",
    "_cumcount = df.loc[:, ['userID', 'answerCode']].groupby('userID').agg({'answerCode': 'cumcount'}) + 1\n",
    "\n",
    "cum_ans = _cumsum / _cumcount\n",
    "cum_ans['userID'] = df['userID']"
   ]
  },
  {
   "cell_type": "code",
   "execution_count": 114,
   "id": "901f2a2e",
   "metadata": {
    "scrolled": true
   },
   "outputs": [
    {
     "data": {
      "text/html": [
       "<div>\n",
       "<style scoped>\n",
       "    .dataframe tbody tr th:only-of-type {\n",
       "        vertical-align: middle;\n",
       "    }\n",
       "\n",
       "    .dataframe tbody tr th {\n",
       "        vertical-align: top;\n",
       "    }\n",
       "\n",
       "    .dataframe thead th {\n",
       "        text-align: right;\n",
       "    }\n",
       "</style>\n",
       "<table border=\"1\" class=\"dataframe\">\n",
       "  <thead>\n",
       "    <tr style=\"text-align: right;\">\n",
       "      <th></th>\n",
       "      <th>test</th>\n",
       "      <th>answerCode</th>\n",
       "    </tr>\n",
       "  </thead>\n",
       "  <tbody>\n",
       "    <tr>\n",
       "      <th>test</th>\n",
       "      <td>1.000000</td>\n",
       "      <td>0.751329</td>\n",
       "    </tr>\n",
       "    <tr>\n",
       "      <th>answerCode</th>\n",
       "      <td>0.751329</td>\n",
       "      <td>1.000000</td>\n",
       "    </tr>\n",
       "  </tbody>\n",
       "</table>\n",
       "</div>"
      ],
      "text/plain": [
       "                test  answerCode\n",
       "test        1.000000    0.751329\n",
       "answerCode  0.751329    1.000000"
      ]
     },
     "execution_count": 114,
     "metadata": {},
     "output_type": "execute_result"
    }
   ],
   "source": [
    "test = df.copy()\n",
    "test['test'] =_cumsum\n",
    "test.groupby('test')['answerCode'].mean().reset_index().corr()"
   ]
  },
  {
   "cell_type": "code",
   "execution_count": 117,
   "id": "56250349",
   "metadata": {},
   "outputs": [
    {
     "name": "stdout",
     "output_type": "stream",
     "text": [
      "누적으로 푼 문항의 수와 평균 정답률 사이 상관관계: 0.751\n"
     ]
    }
   ],
   "source": [
    "print(f\"누적으로 푼 문항의 수와 평균 정답률 사이 상관관계: {test.groupby('test')['answerCode'].mean().reset_index().corr()['answerCode']['test']:.3f}\")"
   ]
  },
  {
   "cell_type": "markdown",
   "id": "d941233d",
   "metadata": {},
   "source": [
    "### 2.4 유저/시간\n",
    "- 새로운 문제집을 푸는 경우 푼 시간이 엄청나게 크게 기록됨 -> 30분 이상 푼 것들은 새로운 문제집을 시작한 것으로 판단하여 0으로 처리(85% 넘게 30분 이하로 풀림) "
   ]
  },
  {
   "cell_type": "code",
   "execution_count": 180,
   "id": "9094c538",
   "metadata": {},
   "outputs": [],
   "source": [
    "diff = df.loc[:, ['userID', 'Timestamp']].groupby('userID').diff().fillna(pd.Timedelta(seconds=0))\n",
    "diff = diff.fillna(pd.Timedelta(seconds=0))\n",
    "diff = diff['Timestamp'].apply(lambda x: x.total_seconds())\n",
    "\n",
    "df['elapsed'] = diff\n",
    "\n",
    "elapsed_answer = df.groupby('elapsed').agg({'answerCode': percentile, 'userID': 'count'})\n",
    "elapsed_hist = elapsed_answer[elapsed_answer['userID'] > 100]"
   ]
  },
  {
   "cell_type": "code",
   "execution_count": 181,
   "id": "b971c0e6",
   "metadata": {},
   "outputs": [
    {
     "data": {
      "text/plain": [
       "1579.0"
      ]
     },
     "execution_count": 181,
     "metadata": {},
     "output_type": "execute_result"
    }
   ],
   "source": [
    "df['elapsed'].quantile(0.85)"
   ]
  },
  {
   "cell_type": "code",
   "execution_count": 182,
   "id": "47086273",
   "metadata": {
    "scrolled": true
   },
   "outputs": [],
   "source": [
    "df['elapsed_new'] = df['elapsed'].apply(lambda x: 0 if x>= 1800 else x)"
   ]
  },
  {
   "cell_type": "code",
   "execution_count": 222,
   "id": "744d3ec6",
   "metadata": {},
   "outputs": [],
   "source": [
    "df.drop('elapsed',inplace = True,axis=1)"
   ]
  },
  {
   "cell_type": "code",
   "execution_count": 207,
   "id": "ad38a073",
   "metadata": {},
   "outputs": [
    {
     "data": {
      "text/html": [
       "<div>\n",
       "<style scoped>\n",
       "    .dataframe tbody tr th:only-of-type {\n",
       "        vertical-align: middle;\n",
       "    }\n",
       "\n",
       "    .dataframe tbody tr th {\n",
       "        vertical-align: top;\n",
       "    }\n",
       "\n",
       "    .dataframe thead th {\n",
       "        text-align: right;\n",
       "    }\n",
       "</style>\n",
       "<table border=\"1\" class=\"dataframe\">\n",
       "  <thead>\n",
       "    <tr style=\"text-align: right;\">\n",
       "      <th></th>\n",
       "      <th>elapsed_new</th>\n",
       "      <th>answerCode</th>\n",
       "    </tr>\n",
       "  </thead>\n",
       "  <tbody>\n",
       "    <tr>\n",
       "      <th>0</th>\n",
       "      <td>0.0</td>\n",
       "      <td>0.737768</td>\n",
       "    </tr>\n",
       "    <tr>\n",
       "      <th>1</th>\n",
       "      <td>1.0</td>\n",
       "      <td>0.246893</td>\n",
       "    </tr>\n",
       "    <tr>\n",
       "      <th>2</th>\n",
       "      <td>2.0</td>\n",
       "      <td>0.227417</td>\n",
       "    </tr>\n",
       "    <tr>\n",
       "      <th>3</th>\n",
       "      <td>3.0</td>\n",
       "      <td>0.229280</td>\n",
       "    </tr>\n",
       "    <tr>\n",
       "      <th>4</th>\n",
       "      <td>4.0</td>\n",
       "      <td>0.248611</td>\n",
       "    </tr>\n",
       "    <tr>\n",
       "      <th>...</th>\n",
       "      <td>...</td>\n",
       "      <td>...</td>\n",
       "    </tr>\n",
       "    <tr>\n",
       "      <th>1795</th>\n",
       "      <td>1795.0</td>\n",
       "      <td>0.727273</td>\n",
       "    </tr>\n",
       "    <tr>\n",
       "      <th>1796</th>\n",
       "      <td>1796.0</td>\n",
       "      <td>0.666667</td>\n",
       "    </tr>\n",
       "    <tr>\n",
       "      <th>1797</th>\n",
       "      <td>1797.0</td>\n",
       "      <td>0.785714</td>\n",
       "    </tr>\n",
       "    <tr>\n",
       "      <th>1798</th>\n",
       "      <td>1798.0</td>\n",
       "      <td>0.555556</td>\n",
       "    </tr>\n",
       "    <tr>\n",
       "      <th>1799</th>\n",
       "      <td>1799.0</td>\n",
       "      <td>0.846154</td>\n",
       "    </tr>\n",
       "  </tbody>\n",
       "</table>\n",
       "<p>1800 rows × 2 columns</p>\n",
       "</div>"
      ],
      "text/plain": [
       "      elapsed_new  answerCode\n",
       "0             0.0    0.737768\n",
       "1             1.0    0.246893\n",
       "2             2.0    0.227417\n",
       "3             3.0    0.229280\n",
       "4             4.0    0.248611\n",
       "...           ...         ...\n",
       "1795       1795.0    0.727273\n",
       "1796       1796.0    0.666667\n",
       "1797       1797.0    0.785714\n",
       "1798       1798.0    0.555556\n",
       "1799       1799.0    0.846154\n",
       "\n",
       "[1800 rows x 2 columns]"
      ]
     },
     "execution_count": 207,
     "metadata": {},
     "output_type": "execute_result"
    }
   ],
   "source": [
    "d = df.groupby('elapsed_new')[['answerCode']].mean().reset_index()\n",
    "d"
   ]
  },
  {
   "cell_type": "code",
   "execution_count": 218,
   "id": "8f7a68f3",
   "metadata": {},
   "outputs": [
    {
     "data": {
      "text/plain": [
       "Text(0.5, 1.0, '# time of answer')"
      ]
     },
     "execution_count": 218,
     "metadata": {},
     "output_type": "execute_result"
    },
    {
     "data": {
      "image/png": "[encoded data removed]",
      "text/plain": [
       "<Figure size 360x360 with 1 Axes>"
      ]
     },
     "metadata": {},
     "output_type": "display_data"
    }
   ],
   "source": [
    "sns.lmplot(data = d, x= 'elapsed_new', y = 'answerCode',line_kws={\"color\": \"orange\"})\n",
    "ax = plt.gca()\n",
    "ax.set_title('# time of answer')"
   ]
  },
  {
   "cell_type": "markdown",
   "id": "cf872708",
   "metadata": {},
   "source": [
    "# 3. 문항 관련"
   ]
  },
  {
   "cell_type": "code",
   "execution_count": 223,
   "id": "364dc4a3",
   "metadata": {},
   "outputs": [
    {
     "data": {
      "text/html": [
       "<div>\n",
       "<style scoped>\n",
       "    .dataframe tbody tr th:only-of-type {\n",
       "        vertical-align: middle;\n",
       "    }\n",
       "\n",
       "    .dataframe tbody tr th {\n",
       "        vertical-align: top;\n",
       "    }\n",
       "\n",
       "    .dataframe thead th {\n",
       "        text-align: right;\n",
       "    }\n",
       "</style>\n",
       "<table border=\"1\" class=\"dataframe\">\n",
       "  <thead>\n",
       "    <tr style=\"text-align: right;\">\n",
       "      <th></th>\n",
       "      <th>userID</th>\n",
       "      <th>assessmentItemID</th>\n",
       "      <th>testID</th>\n",
       "      <th>answerCode</th>\n",
       "      <th>Timestamp</th>\n",
       "      <th>KnowledgeTag</th>\n",
       "      <th>elapsed_new</th>\n",
       "    </tr>\n",
       "  </thead>\n",
       "  <tbody>\n",
       "    <tr>\n",
       "      <th>0</th>\n",
       "      <td>0</td>\n",
       "      <td>A060001001</td>\n",
       "      <td>A060000001</td>\n",
       "      <td>1</td>\n",
       "      <td>2020-03-24 00:17:11</td>\n",
       "      <td>7224</td>\n",
       "      <td>0.0</td>\n",
       "    </tr>\n",
       "    <tr>\n",
       "      <th>1</th>\n",
       "      <td>0</td>\n",
       "      <td>A060001002</td>\n",
       "      <td>A060000001</td>\n",
       "      <td>1</td>\n",
       "      <td>2020-03-24 00:17:14</td>\n",
       "      <td>7225</td>\n",
       "      <td>3.0</td>\n",
       "    </tr>\n",
       "    <tr>\n",
       "      <th>2</th>\n",
       "      <td>0</td>\n",
       "      <td>A060001003</td>\n",
       "      <td>A060000001</td>\n",
       "      <td>1</td>\n",
       "      <td>2020-03-24 00:17:22</td>\n",
       "      <td>7225</td>\n",
       "      <td>8.0</td>\n",
       "    </tr>\n",
       "    <tr>\n",
       "      <th>3</th>\n",
       "      <td>0</td>\n",
       "      <td>A060001004</td>\n",
       "      <td>A060000001</td>\n",
       "      <td>1</td>\n",
       "      <td>2020-03-24 00:17:29</td>\n",
       "      <td>7225</td>\n",
       "      <td>7.0</td>\n",
       "    </tr>\n",
       "    <tr>\n",
       "      <th>4</th>\n",
       "      <td>0</td>\n",
       "      <td>A060001005</td>\n",
       "      <td>A060000001</td>\n",
       "      <td>1</td>\n",
       "      <td>2020-03-24 00:17:36</td>\n",
       "      <td>7225</td>\n",
       "      <td>7.0</td>\n",
       "    </tr>\n",
       "    <tr>\n",
       "      <th>...</th>\n",
       "      <td>...</td>\n",
       "      <td>...</td>\n",
       "      <td>...</td>\n",
       "      <td>...</td>\n",
       "      <td>...</td>\n",
       "      <td>...</td>\n",
       "      <td>...</td>\n",
       "    </tr>\n",
       "    <tr>\n",
       "      <th>2266581</th>\n",
       "      <td>7441</td>\n",
       "      <td>A030071005</td>\n",
       "      <td>A030000071</td>\n",
       "      <td>0</td>\n",
       "      <td>2020-06-05 06:50:21</td>\n",
       "      <td>438</td>\n",
       "      <td>24.0</td>\n",
       "    </tr>\n",
       "    <tr>\n",
       "      <th>2266582</th>\n",
       "      <td>7441</td>\n",
       "      <td>A040165001</td>\n",
       "      <td>A040000165</td>\n",
       "      <td>1</td>\n",
       "      <td>2020-08-21 01:06:39</td>\n",
       "      <td>8836</td>\n",
       "      <td>0.0</td>\n",
       "    </tr>\n",
       "    <tr>\n",
       "      <th>2266583</th>\n",
       "      <td>7441</td>\n",
       "      <td>A040165002</td>\n",
       "      <td>A040000165</td>\n",
       "      <td>1</td>\n",
       "      <td>2020-08-21 01:06:50</td>\n",
       "      <td>8836</td>\n",
       "      <td>11.0</td>\n",
       "    </tr>\n",
       "    <tr>\n",
       "      <th>2266584</th>\n",
       "      <td>7441</td>\n",
       "      <td>A040165003</td>\n",
       "      <td>A040000165</td>\n",
       "      <td>1</td>\n",
       "      <td>2020-08-21 01:07:36</td>\n",
       "      <td>8836</td>\n",
       "      <td>46.0</td>\n",
       "    </tr>\n",
       "    <tr>\n",
       "      <th>2266585</th>\n",
       "      <td>7441</td>\n",
       "      <td>A040165004</td>\n",
       "      <td>A040000165</td>\n",
       "      <td>1</td>\n",
       "      <td>2020-08-21 01:08:49</td>\n",
       "      <td>8836</td>\n",
       "      <td>73.0</td>\n",
       "    </tr>\n",
       "  </tbody>\n",
       "</table>\n",
       "<p>2266586 rows × 7 columns</p>\n",
       "</div>"
      ],
      "text/plain": [
       "         userID assessmentItemID      testID  answerCode           Timestamp  \\\n",
       "0             0       A060001001  A060000001           1 2020-03-24 00:17:11   \n",
       "1             0       A060001002  A060000001           1 2020-03-24 00:17:14   \n",
       "2             0       A060001003  A060000001           1 2020-03-24 00:17:22   \n",
       "3             0       A060001004  A060000001           1 2020-03-24 00:17:29   \n",
       "4             0       A060001005  A060000001           1 2020-03-24 00:17:36   \n",
       "...         ...              ...         ...         ...                 ...   \n",
       "2266581    7441       A030071005  A030000071           0 2020-06-05 06:50:21   \n",
       "2266582    7441       A040165001  A040000165           1 2020-08-21 01:06:39   \n",
       "2266583    7441       A040165002  A040000165           1 2020-08-21 01:06:50   \n",
       "2266584    7441       A040165003  A040000165           1 2020-08-21 01:07:36   \n",
       "2266585    7441       A040165004  A040000165           1 2020-08-21 01:08:49   \n",
       "\n",
       "         KnowledgeTag  elapsed_new  \n",
       "0                7224          0.0  \n",
       "1                7225          3.0  \n",
       "2                7225          8.0  \n",
       "3                7225          7.0  \n",
       "4                7225          7.0  \n",
       "...               ...          ...  \n",
       "2266581           438         24.0  \n",
       "2266582          8836          0.0  \n",
       "2266583          8836         11.0  \n",
       "2266584          8836         46.0  \n",
       "2266585          8836         73.0  \n",
       "\n",
       "[2266586 rows x 7 columns]"
      ]
     },
     "execution_count": 223,
     "metadata": {},
     "output_type": "execute_result"
    }
   ],
   "source": [
    "df"
   ]
  },
  {
   "cell_type": "markdown",
   "id": "1012f8f5",
   "metadata": {},
   "source": [
    "### 3.1 문항별 정답률"
   ]
  },
  {
   "cell_type": "code",
   "execution_count": 224,
   "id": "e174f9e2",
   "metadata": {
    "scrolled": true
   },
   "outputs": [
    {
     "data": {
      "text/html": [
       "<div>\n",
       "<style scoped>\n",
       "    .dataframe tbody tr th:only-of-type {\n",
       "        vertical-align: middle;\n",
       "    }\n",
       "\n",
       "    .dataframe tbody tr th {\n",
       "        vertical-align: top;\n",
       "    }\n",
       "\n",
       "    .dataframe thead th {\n",
       "        text-align: right;\n",
       "    }\n",
       "</style>\n",
       "<table border=\"1\" class=\"dataframe\">\n",
       "  <thead>\n",
       "    <tr style=\"text-align: right;\">\n",
       "      <th></th>\n",
       "      <th>userID</th>\n",
       "      <th>answerCode</th>\n",
       "    </tr>\n",
       "  </thead>\n",
       "  <tbody>\n",
       "    <tr>\n",
       "      <th>count</th>\n",
       "      <td>9454.000000</td>\n",
       "      <td>9454.000000</td>\n",
       "    </tr>\n",
       "    <tr>\n",
       "      <th>mean</th>\n",
       "      <td>239.748889</td>\n",
       "      <td>0.654256</td>\n",
       "    </tr>\n",
       "    <tr>\n",
       "      <th>std</th>\n",
       "      <td>71.893791</td>\n",
       "      <td>0.195488</td>\n",
       "    </tr>\n",
       "    <tr>\n",
       "      <th>min</th>\n",
       "      <td>43.000000</td>\n",
       "      <td>0.049430</td>\n",
       "    </tr>\n",
       "    <tr>\n",
       "      <th>25%</th>\n",
       "      <td>220.000000</td>\n",
       "      <td>0.505548</td>\n",
       "    </tr>\n",
       "    <tr>\n",
       "      <th>50%</th>\n",
       "      <td>230.000000</td>\n",
       "      <td>0.666667</td>\n",
       "    </tr>\n",
       "    <tr>\n",
       "      <th>75%</th>\n",
       "      <td>271.000000</td>\n",
       "      <td>0.820513</td>\n",
       "    </tr>\n",
       "    <tr>\n",
       "      <th>max</th>\n",
       "      <td>454.000000</td>\n",
       "      <td>0.996310</td>\n",
       "    </tr>\n",
       "  </tbody>\n",
       "</table>\n",
       "</div>"
      ],
      "text/plain": [
       "            userID   answerCode\n",
       "count  9454.000000  9454.000000\n",
       "mean    239.748889     0.654256\n",
       "std      71.893791     0.195488\n",
       "min      43.000000     0.049430\n",
       "25%     220.000000     0.505548\n",
       "50%     230.000000     0.666667\n",
       "75%     271.000000     0.820513\n",
       "max     454.000000     0.996310"
      ]
     },
     "execution_count": 224,
     "metadata": {},
     "output_type": "execute_result"
    }
   ],
   "source": [
    "prob_groupby = df.groupby('assessmentItemID').agg({\n",
    "    'userID': 'count',\n",
    "    'answerCode': percentile\n",
    "})\n",
    "prob_groupby.describe()"
   ]
  },
  {
   "cell_type": "code",
   "execution_count": 226,
   "id": "2bc1f0bf",
   "metadata": {},
   "outputs": [
    {
     "data": {
      "image/png": "[encoded data removed]",
      "text/plain": [
       "<Figure size 432x288 with 1 Axes>"
      ]
     },
     "metadata": {},
     "output_type": "display_data"
    }
   ],
   "source": [
    "fig, ax = plt.subplots()\n",
    "prob_groupby['answerCode'].hist(bins=20,color = 'royalblue')\n",
    "ax.set_title('Item Answer Rate Histogram')\n",
    "ax.set_xlabel('Answer Rate')\n",
    "ax.set_ylabel('Count')\n",
    "ax.axvline(prob_groupby['answerCode'].mean(), color='red')\n",
    "ax.grid(b=True)"
   ]
  },
  {
   "cell_type": "markdown",
   "id": "e6f08ecd",
   "metadata": {},
   "source": [
    "### 3.2 문항번호 정답률\n",
    "- 문항번호가 뒤로 갈수록 정답률이 낮아짐\n",
    "- 대분류가 의미가 있다는 뜻?"
   ]
  },
  {
   "cell_type": "code",
   "execution_count": 241,
   "id": "865f232a",
   "metadata": {},
   "outputs": [
    {
     "data": {
      "text/html": [
       "<div>\n",
       "<style scoped>\n",
       "    .dataframe tbody tr th:only-of-type {\n",
       "        vertical-align: middle;\n",
       "    }\n",
       "\n",
       "    .dataframe tbody tr th {\n",
       "        vertical-align: top;\n",
       "    }\n",
       "\n",
       "    .dataframe thead th {\n",
       "        text-align: right;\n",
       "    }\n",
       "</style>\n",
       "<table border=\"1\" class=\"dataframe\">\n",
       "  <thead>\n",
       "    <tr style=\"text-align: right;\">\n",
       "      <th></th>\n",
       "      <th>index</th>\n",
       "      <th>assessmentItemID</th>\n",
       "      <th>userID</th>\n",
       "      <th>answerCode</th>\n",
       "    </tr>\n",
       "  </thead>\n",
       "  <tbody>\n",
       "    <tr>\n",
       "      <th>0</th>\n",
       "      <td>0</td>\n",
       "      <td>A010001001</td>\n",
       "      <td>317</td>\n",
       "      <td>0.930599</td>\n",
       "    </tr>\n",
       "    <tr>\n",
       "      <th>1</th>\n",
       "      <td>1</td>\n",
       "      <td>A010001002</td>\n",
       "      <td>317</td>\n",
       "      <td>0.958991</td>\n",
       "    </tr>\n",
       "    <tr>\n",
       "      <th>2</th>\n",
       "      <td>2</td>\n",
       "      <td>A010001003</td>\n",
       "      <td>317</td>\n",
       "      <td>0.905363</td>\n",
       "    </tr>\n",
       "    <tr>\n",
       "      <th>3</th>\n",
       "      <td>3</td>\n",
       "      <td>A010001004</td>\n",
       "      <td>317</td>\n",
       "      <td>0.949527</td>\n",
       "    </tr>\n",
       "    <tr>\n",
       "      <th>4</th>\n",
       "      <td>4</td>\n",
       "      <td>A010001005</td>\n",
       "      <td>317</td>\n",
       "      <td>0.886435</td>\n",
       "    </tr>\n",
       "    <tr>\n",
       "      <th>...</th>\n",
       "      <td>...</td>\n",
       "      <td>...</td>\n",
       "      <td>...</td>\n",
       "      <td>...</td>\n",
       "    </tr>\n",
       "    <tr>\n",
       "      <th>9449</th>\n",
       "      <td>9449</td>\n",
       "      <td>A090074002</td>\n",
       "      <td>45</td>\n",
       "      <td>0.444444</td>\n",
       "    </tr>\n",
       "    <tr>\n",
       "      <th>9450</th>\n",
       "      <td>9450</td>\n",
       "      <td>A090074003</td>\n",
       "      <td>45</td>\n",
       "      <td>0.577778</td>\n",
       "    </tr>\n",
       "    <tr>\n",
       "      <th>9451</th>\n",
       "      <td>9451</td>\n",
       "      <td>A090074004</td>\n",
       "      <td>45</td>\n",
       "      <td>0.333333</td>\n",
       "    </tr>\n",
       "    <tr>\n",
       "      <th>9452</th>\n",
       "      <td>9452</td>\n",
       "      <td>A090074005</td>\n",
       "      <td>45</td>\n",
       "      <td>0.400000</td>\n",
       "    </tr>\n",
       "    <tr>\n",
       "      <th>9453</th>\n",
       "      <td>9453</td>\n",
       "      <td>A090074006</td>\n",
       "      <td>45</td>\n",
       "      <td>0.466667</td>\n",
       "    </tr>\n",
       "  </tbody>\n",
       "</table>\n",
       "<p>9454 rows × 4 columns</p>\n",
       "</div>"
      ],
      "text/plain": [
       "      index assessmentItemID  userID  answerCode\n",
       "0         0       A010001001     317    0.930599\n",
       "1         1       A010001002     317    0.958991\n",
       "2         2       A010001003     317    0.905363\n",
       "3         3       A010001004     317    0.949527\n",
       "4         4       A010001005     317    0.886435\n",
       "...     ...              ...     ...         ...\n",
       "9449   9449       A090074002      45    0.444444\n",
       "9450   9450       A090074003      45    0.577778\n",
       "9451   9451       A090074004      45    0.333333\n",
       "9452   9452       A090074005      45    0.400000\n",
       "9453   9453       A090074006      45    0.466667\n",
       "\n",
       "[9454 rows x 4 columns]"
      ]
     },
     "execution_count": 241,
     "metadata": {},
     "output_type": "execute_result"
    }
   ],
   "source": [
    "prob_groupby_r = prob_groupby.reset_index().reset_index()\n",
    "prob_groupby_r"
   ]
  },
  {
   "cell_type": "code",
   "execution_count": 249,
   "id": "661c53e0",
   "metadata": {},
   "outputs": [
    {
     "data": {
      "text/plain": [
       "<seaborn.axisgrid.FacetGrid at 0x18c3df45eb8>"
      ]
     },
     "execution_count": 249,
     "metadata": {},
     "output_type": "execute_result"
    },
    {
     "data": {
      "image/png": "[encoded data removed]",
      "text/plain": [
       "<Figure size 360x360 with 1 Axes>"
      ]
     },
     "metadata": {},
     "output_type": "display_data"
    }
   ],
   "source": [
    "sns.lmplot(data = prob_groupby_r, x = 'index' , y = 'answerCode',line_kws={\"color\": \"orange\"})"
   ]
  },
  {
   "cell_type": "markdown",
   "id": "e537f06f",
   "metadata": {},
   "source": [
    "### 3.3 문항별  푸는데 걸린 시간\n",
    "- 대부분 30~100초의 시간으로 문제를 풂"
   ]
  },
  {
   "cell_type": "code",
   "execution_count": 265,
   "id": "c462f184",
   "metadata": {
    "scrolled": true
   },
   "outputs": [],
   "source": [
    "time_mean = df.groupby('assessmentItemID').agg({'elapsed_new' : 'mean'})"
   ]
  },
  {
   "cell_type": "code",
   "execution_count": 275,
   "id": "c040486c",
   "metadata": {},
   "outputs": [
    {
     "data": {
      "image/png": "[encoded data removed]",
      "text/plain": [
       "<Figure size 432x288 with 1 Axes>"
      ]
     },
     "metadata": {},
     "output_type": "display_data"
    }
   ],
   "source": [
    "fig, ax = plt.subplots()\n",
    "sns.histplot(time_mean['elapsed_new'], binwidth=5, color=\"royalblue\")\n",
    "ax.set_xlabel('# of time')\n",
    "ax.set_ylabel('# Count')\n",
    "ax.set_title('# of time in problems',fontsize=\"18\")\n",
    "plt.show()"
   ]
  },
  {
   "cell_type": "markdown",
   "id": "7d7b87b1",
   "metadata": {},
   "source": [
    "# 4. 태그별 관련"
   ]
  },
  {
   "cell_type": "markdown",
   "id": "96f2c679",
   "metadata": {},
   "source": [
    "### 4.1 태그별 정답률\n",
    "- 많이 풀린 태그가 정답률이 높음"
   ]
  },
  {
   "cell_type": "code",
   "execution_count": 277,
   "id": "58c676ae",
   "metadata": {
    "scrolled": true
   },
   "outputs": [
    {
     "data": {
      "text/html": [
       "<div>\n",
       "<style scoped>\n",
       "    .dataframe tbody tr th:only-of-type {\n",
       "        vertical-align: middle;\n",
       "    }\n",
       "\n",
       "    .dataframe tbody tr th {\n",
       "        vertical-align: top;\n",
       "    }\n",
       "\n",
       "    .dataframe thead th {\n",
       "        text-align: right;\n",
       "    }\n",
       "</style>\n",
       "<table border=\"1\" class=\"dataframe\">\n",
       "  <thead>\n",
       "    <tr style=\"text-align: right;\">\n",
       "      <th></th>\n",
       "      <th>userID</th>\n",
       "      <th>answerCode</th>\n",
       "    </tr>\n",
       "    <tr>\n",
       "      <th>KnowledgeTag</th>\n",
       "      <th></th>\n",
       "      <th></th>\n",
       "    </tr>\n",
       "  </thead>\n",
       "  <tbody>\n",
       "    <tr>\n",
       "      <th>23</th>\n",
       "      <td>1800</td>\n",
       "      <td>0.584444</td>\n",
       "    </tr>\n",
       "    <tr>\n",
       "      <th>24</th>\n",
       "      <td>358</td>\n",
       "      <td>0.614525</td>\n",
       "    </tr>\n",
       "    <tr>\n",
       "      <th>25</th>\n",
       "      <td>92</td>\n",
       "      <td>0.858696</td>\n",
       "    </tr>\n",
       "    <tr>\n",
       "      <th>26</th>\n",
       "      <td>2432</td>\n",
       "      <td>0.614309</td>\n",
       "    </tr>\n",
       "    <tr>\n",
       "      <th>30</th>\n",
       "      <td>539</td>\n",
       "      <td>0.536178</td>\n",
       "    </tr>\n",
       "    <tr>\n",
       "      <th>...</th>\n",
       "      <td>...</td>\n",
       "      <td>...</td>\n",
       "    </tr>\n",
       "    <tr>\n",
       "      <th>11253</th>\n",
       "      <td>4282</td>\n",
       "      <td>0.739374</td>\n",
       "    </tr>\n",
       "    <tr>\n",
       "      <th>11265</th>\n",
       "      <td>454</td>\n",
       "      <td>0.676211</td>\n",
       "    </tr>\n",
       "    <tr>\n",
       "      <th>11269</th>\n",
       "      <td>2417</td>\n",
       "      <td>0.557716</td>\n",
       "    </tr>\n",
       "    <tr>\n",
       "      <th>11270</th>\n",
       "      <td>261</td>\n",
       "      <td>0.478927</td>\n",
       "    </tr>\n",
       "    <tr>\n",
       "      <th>11271</th>\n",
       "      <td>522</td>\n",
       "      <td>0.446360</td>\n",
       "    </tr>\n",
       "  </tbody>\n",
       "</table>\n",
       "<p>912 rows × 2 columns</p>\n",
       "</div>"
      ],
      "text/plain": [
       "              userID  answerCode\n",
       "KnowledgeTag                    \n",
       "23              1800    0.584444\n",
       "24               358    0.614525\n",
       "25                92    0.858696\n",
       "26              2432    0.614309\n",
       "30               539    0.536178\n",
       "...              ...         ...\n",
       "11253           4282    0.739374\n",
       "11265            454    0.676211\n",
       "11269           2417    0.557716\n",
       "11270            261    0.478927\n",
       "11271            522    0.446360\n",
       "\n",
       "[912 rows x 2 columns]"
      ]
     },
     "execution_count": 277,
     "metadata": {},
     "output_type": "execute_result"
    }
   ],
   "source": [
    "tag_groupby = df.groupby('KnowledgeTag').agg({\n",
    "    'userID': 'count',\n",
    "    'answerCode': percentile\n",
    "})\n",
    "tag_groupby"
   ]
  },
  {
   "cell_type": "code",
   "execution_count": 272,
   "id": "72d2bcce",
   "metadata": {},
   "outputs": [
    {
     "data": {
      "image/png": "[encoded data removed]",
      "text/plain": [
       "<Figure size 360x360 with 1 Axes>"
      ]
     },
     "metadata": {},
     "output_type": "display_data"
    }
   ],
   "source": [
    "g = sns.lmplot(\n",
    "    data=tag_groupby,\n",
    "    x='userID',\n",
    "    y='answerCode',\n",
    "    scatter_kws={'alpha':0.5},\n",
    "    line_kws={\"color\": \"orange\"}\n",
    ")\n",
    "g.set_xlabels('# of Tags Being solved')\n",
    "g.set_ylabels('Answer Rate')\n",
    "g.set(xlim=(-30, 14500))\n",
    "\n",
    "ax = plt.gca()\n",
    "ax.set_title('# of Tags Exposed - Answer Rate');"
   ]
  },
  {
   "cell_type": "code",
   "execution_count": 276,
   "id": "a59b9cae",
   "metadata": {},
   "outputs": [
    {
     "data": {
      "text/plain": [
       "<matplotlib.legend.Legend at 0x18c411e2748>"
      ]
     },
     "execution_count": 276,
     "metadata": {},
     "output_type": "execute_result"
    },
    {
     "data": {
      "image/png": "[encoded data removed]",
      "text/plain": [
       "<Figure size 432x288 with 1 Axes>"
      ]
     },
     "metadata": {},
     "output_type": "display_data"
    }
   ],
   "source": [
    "fig, ax = plt.subplots()\n",
    "\n",
    "tag_ans_mean = tag_groupby['userID'].mean()\n",
    "ax.set_xlabel('Answer Rate')\n",
    "ax.set_ylabel('Scaled Counts')\n",
    "ax.set_title('Comparison between Answer rates of Tags\\nbeing solved more than average and the other')\n",
    "\n",
    "tag_groupby[tag_groupby['userID'] >= tag_ans_mean]['answerCode'].hist(\n",
    "    ax=ax, alpha=0.7, bins=15, density=1, stacked=True, label='Solved more than Average'\n",
    ")\n",
    "tag_groupby[tag_groupby['userID'] < tag_ans_mean]['answerCode'].hist(\n",
    "    ax=ax, alpha=0.55, bins=15, density=1, stacked=True, label='Solved less than Average'\n",
    ")\n",
    "ax.legend()"
   ]
  },
  {
   "cell_type": "markdown",
   "id": "176bfbe8",
   "metadata": {},
   "source": [
    "### 4.2 태그번호 정답률\n",
    "- 태그번호에 따른 정답률 차이는 없는 듯"
   ]
  },
  {
   "cell_type": "code",
   "execution_count": 281,
   "id": "c631e373",
   "metadata": {},
   "outputs": [
    {
     "data": {
      "text/plain": [
       "<seaborn.axisgrid.FacetGrid at 0x18c41bee0f0>"
      ]
     },
     "execution_count": 281,
     "metadata": {},
     "output_type": "execute_result"
    },
    {
     "data": {
      "image/png": "[encoded data removed]",
      "text/plain": [
       "<Figure size 360x360 with 1 Axes>"
      ]
     },
     "metadata": {},
     "output_type": "display_data"
    }
   ],
   "source": [
    "tag = tag_groupby.reset_index()\n",
    "sns.lmplot(data = tag , x= 'KnowledgeTag',y = 'answerCode')"
   ]
  },
  {
   "cell_type": "markdown",
   "id": "246239a9",
   "metadata": {},
   "source": [
    "### 4.3 태그별 문제푸는 시간\n",
    "- 태그별로도 푸는시간은 40~80초로 비슷함"
   ]
  },
  {
   "cell_type": "code",
   "execution_count": 283,
   "id": "86c9681f",
   "metadata": {},
   "outputs": [],
   "source": [
    "time_tag_mean = df.groupby('KnowledgeTag').agg({'elapsed_new' : 'mean'})"
   ]
  },
  {
   "cell_type": "code",
   "execution_count": 285,
   "id": "8d48f2b6",
   "metadata": {},
   "outputs": [
    {
     "data": {
      "image/png": "[encoded data removed]",
      "text/plain": [
       "<Figure size 432x288 with 1 Axes>"
      ]
     },
     "metadata": {},
     "output_type": "display_data"
    }
   ],
   "source": [
    "fig, ax = plt.subplots()\n",
    "sns.histplot(time_tag_mean['elapsed_new'], binwidth=5, color=\"royalblue\")\n",
    "ax.set_xlabel('# of time')\n",
    "ax.set_ylabel('# Count')\n",
    "ax.set_title('# of time in KnowledgeTag',fontsize=\"18\")\n",
    "plt.show()"
   ]
  },
  {
   "cell_type": "markdown",
   "id": "c472eda9",
   "metadata": {},
   "source": [
    "# 5. 대분류"
   ]
  },
  {
   "cell_type": "code",
   "execution_count": 288,
   "id": "2757bb1c",
   "metadata": {},
   "outputs": [],
   "source": [
    "df['class'] = df['assessmentItemID'].apply(lambda x : x[2])"
   ]
  },
  {
   "cell_type": "code",
   "execution_count": 290,
   "id": "1a8a44ef",
   "metadata": {},
   "outputs": [
    {
     "data": {
      "text/html": [
       "<div>\n",
       "<style scoped>\n",
       "    .dataframe tbody tr th:only-of-type {\n",
       "        vertical-align: middle;\n",
       "    }\n",
       "\n",
       "    .dataframe tbody tr th {\n",
       "        vertical-align: top;\n",
       "    }\n",
       "\n",
       "    .dataframe thead th {\n",
       "        text-align: right;\n",
       "    }\n",
       "</style>\n",
       "<table border=\"1\" class=\"dataframe\">\n",
       "  <thead>\n",
       "    <tr style=\"text-align: right;\">\n",
       "      <th></th>\n",
       "      <th>userID</th>\n",
       "      <th>assessmentItemID</th>\n",
       "      <th>testID</th>\n",
       "      <th>answerCode</th>\n",
       "      <th>Timestamp</th>\n",
       "      <th>KnowledgeTag</th>\n",
       "      <th>elapsed_new</th>\n",
       "      <th>class</th>\n",
       "    </tr>\n",
       "  </thead>\n",
       "  <tbody>\n",
       "    <tr>\n",
       "      <th>0</th>\n",
       "      <td>0</td>\n",
       "      <td>A060001001</td>\n",
       "      <td>A060000001</td>\n",
       "      <td>1</td>\n",
       "      <td>2020-03-24 00:17:11</td>\n",
       "      <td>7224</td>\n",
       "      <td>0.0</td>\n",
       "      <td>6</td>\n",
       "    </tr>\n",
       "    <tr>\n",
       "      <th>1</th>\n",
       "      <td>0</td>\n",
       "      <td>A060001002</td>\n",
       "      <td>A060000001</td>\n",
       "      <td>1</td>\n",
       "      <td>2020-03-24 00:17:14</td>\n",
       "      <td>7225</td>\n",
       "      <td>3.0</td>\n",
       "      <td>6</td>\n",
       "    </tr>\n",
       "    <tr>\n",
       "      <th>2</th>\n",
       "      <td>0</td>\n",
       "      <td>A060001003</td>\n",
       "      <td>A060000001</td>\n",
       "      <td>1</td>\n",
       "      <td>2020-03-24 00:17:22</td>\n",
       "      <td>7225</td>\n",
       "      <td>8.0</td>\n",
       "      <td>6</td>\n",
       "    </tr>\n",
       "    <tr>\n",
       "      <th>3</th>\n",
       "      <td>0</td>\n",
       "      <td>A060001004</td>\n",
       "      <td>A060000001</td>\n",
       "      <td>1</td>\n",
       "      <td>2020-03-24 00:17:29</td>\n",
       "      <td>7225</td>\n",
       "      <td>7.0</td>\n",
       "      <td>6</td>\n",
       "    </tr>\n",
       "    <tr>\n",
       "      <th>4</th>\n",
       "      <td>0</td>\n",
       "      <td>A060001005</td>\n",
       "      <td>A060000001</td>\n",
       "      <td>1</td>\n",
       "      <td>2020-03-24 00:17:36</td>\n",
       "      <td>7225</td>\n",
       "      <td>7.0</td>\n",
       "      <td>6</td>\n",
       "    </tr>\n",
       "    <tr>\n",
       "      <th>...</th>\n",
       "      <td>...</td>\n",
       "      <td>...</td>\n",
       "      <td>...</td>\n",
       "      <td>...</td>\n",
       "      <td>...</td>\n",
       "      <td>...</td>\n",
       "      <td>...</td>\n",
       "      <td>...</td>\n",
       "    </tr>\n",
       "    <tr>\n",
       "      <th>2266581</th>\n",
       "      <td>7441</td>\n",
       "      <td>A030071005</td>\n",
       "      <td>A030000071</td>\n",
       "      <td>0</td>\n",
       "      <td>2020-06-05 06:50:21</td>\n",
       "      <td>438</td>\n",
       "      <td>24.0</td>\n",
       "      <td>3</td>\n",
       "    </tr>\n",
       "    <tr>\n",
       "      <th>2266582</th>\n",
       "      <td>7441</td>\n",
       "      <td>A040165001</td>\n",
       "      <td>A040000165</td>\n",
       "      <td>1</td>\n",
       "      <td>2020-08-21 01:06:39</td>\n",
       "      <td>8836</td>\n",
       "      <td>0.0</td>\n",
       "      <td>4</td>\n",
       "    </tr>\n",
       "    <tr>\n",
       "      <th>2266583</th>\n",
       "      <td>7441</td>\n",
       "      <td>A040165002</td>\n",
       "      <td>A040000165</td>\n",
       "      <td>1</td>\n",
       "      <td>2020-08-21 01:06:50</td>\n",
       "      <td>8836</td>\n",
       "      <td>11.0</td>\n",
       "      <td>4</td>\n",
       "    </tr>\n",
       "    <tr>\n",
       "      <th>2266584</th>\n",
       "      <td>7441</td>\n",
       "      <td>A040165003</td>\n",
       "      <td>A040000165</td>\n",
       "      <td>1</td>\n",
       "      <td>2020-08-21 01:07:36</td>\n",
       "      <td>8836</td>\n",
       "      <td>46.0</td>\n",
       "      <td>4</td>\n",
       "    </tr>\n",
       "    <tr>\n",
       "      <th>2266585</th>\n",
       "      <td>7441</td>\n",
       "      <td>A040165004</td>\n",
       "      <td>A040000165</td>\n",
       "      <td>1</td>\n",
       "      <td>2020-08-21 01:08:49</td>\n",
       "      <td>8836</td>\n",
       "      <td>73.0</td>\n",
       "      <td>4</td>\n",
       "    </tr>\n",
       "  </tbody>\n",
       "</table>\n",
       "<p>2266586 rows × 8 columns</p>\n",
       "</div>"
      ],
      "text/plain": [
       "         userID assessmentItemID      testID  answerCode           Timestamp  \\\n",
       "0             0       A060001001  A060000001           1 2020-03-24 00:17:11   \n",
       "1             0       A060001002  A060000001           1 2020-03-24 00:17:14   \n",
       "2             0       A060001003  A060000001           1 2020-03-24 00:17:22   \n",
       "3             0       A060001004  A060000001           1 2020-03-24 00:17:29   \n",
       "4             0       A060001005  A060000001           1 2020-03-24 00:17:36   \n",
       "...         ...              ...         ...         ...                 ...   \n",
       "2266581    7441       A030071005  A030000071           0 2020-06-05 06:50:21   \n",
       "2266582    7441       A040165001  A040000165           1 2020-08-21 01:06:39   \n",
       "2266583    7441       A040165002  A040000165           1 2020-08-21 01:06:50   \n",
       "2266584    7441       A040165003  A040000165           1 2020-08-21 01:07:36   \n",
       "2266585    7441       A040165004  A040000165           1 2020-08-21 01:08:49   \n",
       "\n",
       "         KnowledgeTag  elapsed_new class  \n",
       "0                7224          0.0     6  \n",
       "1                7225          3.0     6  \n",
       "2                7225          8.0     6  \n",
       "3                7225          7.0     6  \n",
       "4                7225          7.0     6  \n",
       "...               ...          ...   ...  \n",
       "2266581           438         24.0     3  \n",
       "2266582          8836          0.0     4  \n",
       "2266583          8836         11.0     4  \n",
       "2266584          8836         46.0     4  \n",
       "2266585          8836         73.0     4  \n",
       "\n",
       "[2266586 rows x 8 columns]"
      ]
     },
     "execution_count": 290,
     "metadata": {},
     "output_type": "execute_result"
    }
   ],
   "source": [
    "df"
   ]
  },
  {
   "cell_type": "markdown",
   "id": "a9f4a41c",
   "metadata": {},
   "source": [
    "### 5.1 대분류별 정답률 분포"
   ]
  },
  {
   "cell_type": "code",
   "execution_count": 296,
   "id": "8e01233e",
   "metadata": {},
   "outputs": [
    {
     "data": {
      "text/html": [
       "<div>\n",
       "<style scoped>\n",
       "    .dataframe tbody tr th:only-of-type {\n",
       "        vertical-align: middle;\n",
       "    }\n",
       "\n",
       "    .dataframe tbody tr th {\n",
       "        vertical-align: top;\n",
       "    }\n",
       "\n",
       "    .dataframe thead th {\n",
       "        text-align: right;\n",
       "    }\n",
       "</style>\n",
       "<table border=\"1\" class=\"dataframe\">\n",
       "  <thead>\n",
       "    <tr style=\"text-align: right;\">\n",
       "      <th></th>\n",
       "      <th>class</th>\n",
       "      <th>userID</th>\n",
       "      <th>answerCode</th>\n",
       "    </tr>\n",
       "  </thead>\n",
       "  <tbody>\n",
       "    <tr>\n",
       "      <th>0</th>\n",
       "      <td>1</td>\n",
       "      <td>272082</td>\n",
       "      <td>0.800876</td>\n",
       "    </tr>\n",
       "    <tr>\n",
       "      <th>1</th>\n",
       "      <td>2</td>\n",
       "      <td>268327</td>\n",
       "      <td>0.737593</td>\n",
       "    </tr>\n",
       "    <tr>\n",
       "      <th>2</th>\n",
       "      <td>3</td>\n",
       "      <td>273762</td>\n",
       "      <td>0.702238</td>\n",
       "    </tr>\n",
       "    <tr>\n",
       "      <th>3</th>\n",
       "      <td>4</td>\n",
       "      <td>267323</td>\n",
       "      <td>0.684056</td>\n",
       "    </tr>\n",
       "    <tr>\n",
       "      <th>4</th>\n",
       "      <td>5</td>\n",
       "      <td>275773</td>\n",
       "      <td>0.658208</td>\n",
       "    </tr>\n",
       "    <tr>\n",
       "      <th>5</th>\n",
       "      <td>6</td>\n",
       "      <td>264434</td>\n",
       "      <td>0.709232</td>\n",
       "    </tr>\n",
       "    <tr>\n",
       "      <th>6</th>\n",
       "      <td>7</td>\n",
       "      <td>279164</td>\n",
       "      <td>0.521876</td>\n",
       "    </tr>\n",
       "    <tr>\n",
       "      <th>7</th>\n",
       "      <td>8</td>\n",
       "      <td>246336</td>\n",
       "      <td>0.502598</td>\n",
       "    </tr>\n",
       "    <tr>\n",
       "      <th>8</th>\n",
       "      <td>9</td>\n",
       "      <td>119385</td>\n",
       "      <td>0.449948</td>\n",
       "    </tr>\n",
       "  </tbody>\n",
       "</table>\n",
       "</div>"
      ],
      "text/plain": [
       "  class  userID  answerCode\n",
       "0     1  272082    0.800876\n",
       "1     2  268327    0.737593\n",
       "2     3  273762    0.702238\n",
       "3     4  267323    0.684056\n",
       "4     5  275773    0.658208\n",
       "5     6  264434    0.709232\n",
       "6     7  279164    0.521876\n",
       "7     8  246336    0.502598\n",
       "8     9  119385    0.449948"
      ]
     },
     "execution_count": 296,
     "metadata": {},
     "output_type": "execute_result"
    }
   ],
   "source": [
    "class_groupby = df.groupby('class').agg({\n",
    "    'userID': 'count',\n",
    "    'answerCode': percentile\n",
    "}).reset_index()\n",
    "class_groupby"
   ]
  },
  {
   "cell_type": "code",
   "execution_count": 301,
   "id": "11ed9ef4",
   "metadata": {},
   "outputs": [
    {
     "data": {
      "image/png": "[encoded data removed]",
      "text/plain": [
       "<Figure size 432x288 with 1 Axes>"
      ]
     },
     "metadata": {},
     "output_type": "display_data"
    }
   ],
   "source": [
    "fig, ax = plt.subplots()\n",
    "sns.barplot(data = class_groupby, x = 'class', y = 'answerCode', color = 'royalblue')\n",
    "ax.set_xlabel('# of class')\n",
    "ax.set_ylabel('# Count')\n",
    "ax.set_title('# of answer in class',fontsize=\"18\")\n",
    "plt.show()"
   ]
  },
  {
   "cell_type": "markdown",
   "id": "b5c818f9",
   "metadata": {},
   "source": [
    "### 5.2 대분류별 푼 유저수"
   ]
  },
  {
   "cell_type": "code",
   "execution_count": 304,
   "id": "c048912e",
   "metadata": {},
   "outputs": [
    {
     "data": {
      "image/png": "[encoded data removed]",
      "text/plain": [
       "<Figure size 432x288 with 1 Axes>"
      ]
     },
     "metadata": {},
     "output_type": "display_data"
    }
   ],
   "source": [
    "fig, ax = plt.subplots()\n",
    "sns.barplot(data = class_groupby, x = 'class', y = 'userID', color = 'royalblue')\n",
    "ax.set_xlabel('# of class')\n",
    "ax.set_ylabel('# Count')\n",
    "ax.set_title('# of user in class',fontsize=\"18\")\n",
    "plt.show()"
   ]
  },
  {
   "cell_type": "markdown",
   "id": "acded618",
   "metadata": {},
   "source": [
    "### 5.3 대분류별 푸는데 걸린시간"
   ]
  },
  {
   "cell_type": "code",
   "execution_count": 313,
   "id": "0ac900cd",
   "metadata": {},
   "outputs": [],
   "source": [
    "time_class_mean = df.groupby('class').agg({'elapsed_new' : 'mean'}).reset_index()"
   ]
  },
  {
   "cell_type": "code",
   "execution_count": 318,
   "id": "b9976655",
   "metadata": {},
   "outputs": [
    {
     "data": {
      "text/html": [
       "<div>\n",
       "<style scoped>\n",
       "    .dataframe tbody tr th:only-of-type {\n",
       "        vertical-align: middle;\n",
       "    }\n",
       "\n",
       "    .dataframe tbody tr th {\n",
       "        vertical-align: top;\n",
       "    }\n",
       "\n",
       "    .dataframe thead th {\n",
       "        text-align: right;\n",
       "    }\n",
       "</style>\n",
       "<table border=\"1\" class=\"dataframe\">\n",
       "  <thead>\n",
       "    <tr style=\"text-align: right;\">\n",
       "      <th></th>\n",
       "      <th>class</th>\n",
       "      <th>elapsed_new</th>\n",
       "    </tr>\n",
       "  </thead>\n",
       "  <tbody>\n",
       "    <tr>\n",
       "      <th>0</th>\n",
       "      <td>1</td>\n",
       "      <td>60.074540</td>\n",
       "    </tr>\n",
       "    <tr>\n",
       "      <th>1</th>\n",
       "      <td>2</td>\n",
       "      <td>64.743201</td>\n",
       "    </tr>\n",
       "    <tr>\n",
       "      <th>2</th>\n",
       "      <td>3</td>\n",
       "      <td>63.204170</td>\n",
       "    </tr>\n",
       "    <tr>\n",
       "      <th>3</th>\n",
       "      <td>4</td>\n",
       "      <td>63.430449</td>\n",
       "    </tr>\n",
       "    <tr>\n",
       "      <th>4</th>\n",
       "      <td>5</td>\n",
       "      <td>70.533435</td>\n",
       "    </tr>\n",
       "    <tr>\n",
       "      <th>5</th>\n",
       "      <td>6</td>\n",
       "      <td>67.047029</td>\n",
       "    </tr>\n",
       "    <tr>\n",
       "      <th>6</th>\n",
       "      <td>7</td>\n",
       "      <td>58.118608</td>\n",
       "    </tr>\n",
       "    <tr>\n",
       "      <th>7</th>\n",
       "      <td>8</td>\n",
       "      <td>51.558286</td>\n",
       "    </tr>\n",
       "    <tr>\n",
       "      <th>8</th>\n",
       "      <td>9</td>\n",
       "      <td>45.929522</td>\n",
       "    </tr>\n",
       "  </tbody>\n",
       "</table>\n",
       "</div>"
      ],
      "text/plain": [
       "  class  elapsed_new\n",
       "0     1    60.074540\n",
       "1     2    64.743201\n",
       "2     3    63.204170\n",
       "3     4    63.430449\n",
       "4     5    70.533435\n",
       "5     6    67.047029\n",
       "6     7    58.118608\n",
       "7     8    51.558286\n",
       "8     9    45.929522"
      ]
     },
     "execution_count": 318,
     "metadata": {},
     "output_type": "execute_result"
    }
   ],
   "source": [
    "time_class_mean"
   ]
  },
  {
   "cell_type": "code",
   "execution_count": 319,
   "id": "6bfe452c",
   "metadata": {},
   "outputs": [
    {
     "data": {
      "image/png": "[encoded data removed]",
      "text/plain": [
       "<Figure size 432x288 with 1 Axes>"
      ]
     },
     "metadata": {},
     "output_type": "display_data"
    }
   ],
   "source": [
    "fig, ax = plt.subplots()\n",
    "sns.barplot(data = time_class_mean, x = 'class',y = 'elapsed_new', color=\"royalblue\")\n",
    "ax.set_xlabel('# of time')\n",
    "ax.set_ylabel('# Count')\n",
    "ax.set_title('# of time in class',fontsize=\"18\")\n",
    "plt.show()"
   ]
  },
  {
   "cell_type": "code",
   "execution_count": 321,
   "id": "bdf07e56",
   "metadata": {},
   "outputs": [
    {
     "data": {
      "text/plain": [
       "<AxesSubplot:xlabel='elapsed_new', ylabel='Count'>"
      ]
     },
     "execution_count": 321,
     "metadata": {},
     "output_type": "execute_result"
    },
    {
     "data": {
      "image/png": "[encoded data removed]",
      "text/plain": [
       "<Figure size 432x288 with 1 Axes>"
      ]
     },
     "metadata": {},
     "output_type": "display_data"
    }
   ],
   "source": [
    "sns.histplot(time_class_mean['elapsed_new'], color=\"royalblue\")"
   ]
  },
  {
   "cell_type": "code",
   "execution_count": null,
   "id": "f8090c0a",
   "metadata": {},
   "outputs": [],
   "source": []
  }
 ],
 "metadata": {
  "kernelspec": {
   "display_name": "Python 3",
   "language": "python",
   "name": "python3"
  },
  "language_info": {
   "codemirror_mode": {
    "name": "ipython",
    "version": 3
   },
   "file_extension": ".py",
   "mimetype": "text/x-python",
   "name": "python",
   "nbconvert_exporter": "python",
   "pygments_lexer": "ipython3",
   "version": "3.6.10"
  },
  "toc": {
   "base_numbering": 1,
   "nav_menu": {},
   "number_sections": false,
   "sideBar": true,
   "skip_h1_title": false,
   "title_cell": "Table of Contents",
   "title_sidebar": "Contents",
   "toc_cell": false,
   "toc_position": {},
   "toc_section_display": true,
   "toc_window_display": false
  }
 },
 "nbformat": 4,
 "nbformat_minor": 5
}
