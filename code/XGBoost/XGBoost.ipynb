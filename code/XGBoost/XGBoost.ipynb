{
 "cells": [
  {
   "cell_type": "markdown",
   "id": "0514deab",
   "metadata": {
    "tags": []
   },
   "source": [
    "## 1.라이브러리 세팅"
   ]
  },
  {
   "cell_type": "code",
   "execution_count": 2,
   "id": "02e75786",
   "metadata": {
    "tags": []
   },
   "outputs": [],
   "source": [
    "import numpy as np\n",
    "import pandas as pd\n",
    "import random\n",
    "import os\n",
    "from tqdm import tqdm\n",
    "import warnings\n",
    "warnings.filterwarnings(\"ignore\")\n",
    "\n",
    "import lightgbm as lgb\n",
    "from xgboost import XGBClassifier\n",
    "from sklearn.metrics import roc_auc_score\n",
    "from sklearn.metrics import accuracy_score\n",
    "\n",
    "import pdb\n",
    "import wandb\n",
    "import seaborn as sns\n",
    "\n",
    "from sklearn.model_selection import KFold, GroupKFold\n"
   ]
  },
  {
   "cell_type": "code",
   "execution_count": 3,
   "id": "f79608fc-5901-4db6-af50-8aee1b32f288",
   "metadata": {
    "tags": []
   },
   "outputs": [],
   "source": [
    "# wandb.login()"
   ]
  },
  {
   "cell_type": "code",
   "execution_count": 4,
   "id": "9e907585",
   "metadata": {
    "tags": []
   },
   "outputs": [
    {
     "name": "stdout",
     "output_type": "stream",
     "text": [
      "CPU times: user 2.52 s, sys: 740 ms, total: 3.26 s\n",
      "Wall time: 3.3 s\n"
     ]
    }
   ],
   "source": [
    "%%time\n",
    "dtype = {\n",
    "    'userID': 'int16',\n",
    "    'answerCode': 'int8',\n",
    "    'KnowledgeTag': 'int16'\n",
    "}   \n",
    "\n",
    "# 데이터 경로 맞춰주세요!\n",
    "# 혹시 코랩환경을 사용하신다면 왼쪽 폴더모양 아이콘을 눌러 \"train_data.csv\"를 드래그&드롭으로 업로드한 후 사용해주세요\n",
    "DATA_PATH = '/opt/ml/input/data/'\n",
    "df = pd.read_csv(DATA_PATH+'train_data.csv' , dtype=dtype, parse_dates=['Timestamp'])"
   ]
  },
  {
   "cell_type": "code",
   "execution_count": 5,
   "id": "ffeb80f5-f594-47d4-8c44-63333713ad4b",
   "metadata": {
    "tags": []
   },
   "outputs": [],
   "source": [
    "test_df = pd.read_csv(DATA_PATH+'test_data.csv' , dtype=dtype, parse_dates=['Timestamp'])\n",
    "test_df = test_df.sort_values(by=['userID', 'Timestamp']).reset_index(drop=True)\n",
    "df['dataset'] = 1 #train_data\n",
    "test_df['dataset'] = 2 #test_data\n",
    "# test_df = test_df[(test_df['dataset'] == 2)&(test_df['answerCode'] != -1)] #테스트셋에 대해서는 제거\n",
    "all_df = pd.concat([df,test_df],axis=0)"
   ]
  },
  {
   "cell_type": "markdown",
   "id": "f62621b6",
   "metadata": {
    "tags": []
   },
   "source": [
    "## 2. 피쳐 엔지니어링"
   ]
  },
  {
   "cell_type": "code",
   "execution_count": 6,
   "id": "0ec9562a",
   "metadata": {
    "tags": []
   },
   "outputs": [],
   "source": [
    "day_dict = {'Tuesday': 0,\n",
    " 'Thursday': 1,\n",
    " 'Monday': 2,\n",
    " 'Saturday': 3,\n",
    " 'Friday': 4,\n",
    " 'Wednesday': 5,\n",
    " 'Sunday': 6}\n",
    "\n",
    "def feature_engineering(df):\n",
    "    df = df.copy()\n",
    "    #유저별 시퀀스를 고려하기 위해 아래와 같이 정렬\n",
    "    df.sort_values(by=['userID','Timestamp'], inplace=True)\n",
    "    \n",
    "    #유저들의 문제 풀이수, 정답 수, 정답률을 시간순으로 누적해서 계산\n",
    "    df['user_correct_answer'] = df.groupby('userID')['answerCode'].transform(lambda x: x.cumsum().shift(1))\n",
    "    df['user_total_answer'] = df.groupby('userID')['answerCode'].cumcount()\n",
    "    df['user_acc'] = df['user_correct_answer']/df['user_total_answer']\n",
    "    \n",
    "    # 문제 푸는데 걸린 시간\n",
    "    # 10분이상 시간소요는 새로운 문제집을 시작한 것으로 판단\n",
    "    diff = df.loc[:, ['userID', 'Timestamp']].groupby('userID').diff().fillna(pd.Timedelta(seconds=0))\n",
    "    diff = diff.fillna(pd.Timedelta(seconds=0))\n",
    "    diff = diff['Timestamp'].apply(lambda x: x.total_seconds())\n",
    "    df['elapsed'] = diff\n",
    "    df['elapsed'] = df['elapsed'].apply(lambda x: 0 if x>= 600 else x)\n",
    "    # 문제 푸는데 걸린 누적 시간\n",
    "    df['elapsed_cumsum'] = df.groupby('userID')['elapsed'].cumsum()\n",
    "    #문제 푸는데 걸린 시간의 중앙값\n",
    "    elapsed_med = df.groupby('userID')['elapsed'].agg(['median'])\n",
    "    elapsed_med.columns = ['elapsed_med']\n",
    "    #시간 쪼개기 + 요일\n",
    "    df['month'] = pd.to_datetime(df.Timestamp).dt.month\n",
    "    df['day'] = pd.to_datetime(df.Timestamp).dt.day\n",
    "    df['hour'] = pd.to_datetime(df.Timestamp).dt.hour\n",
    "    df['dayname'] = pd.to_datetime(df.Timestamp).dt.day_name().map(day_dict)\n",
    "    \n",
    "    #대분류/유저\n",
    "    df['bigclass'] = df['testId'].apply(lambda x : x[2]).astype(int)\n",
    "    # 유저별 대분류 문제 풀이시간\n",
    "    bigclasstime = df.groupby(['userID','bigclass']).agg({'elapsed' : 'mean'}).reset_index()\n",
    "\n",
    "    # 유저별 대분류 문제 횟수\n",
    "    bigclassCount = df.groupby(['userID','bigclass'])['answerCode'].count().reset_index()\n",
    "    # 유저별 대분류 문제 정답 횟수\n",
    "    bigclasssum = df.groupby(['userID','bigclass'])['answerCode'].sum().reset_index()\n",
    "    v = bigclasssum['answerCode'].values/bigclassCount['answerCode'].values\n",
    "    bigclasstime['bigclass_acc'] = v\n",
    "    bigclasstime['bigclass_count']  = bigclassCount['answerCode'].values\n",
    "    bigclasstime['bigclass_sum'] = bigclasssum['answerCode'].values\n",
    "    bigclass = bigclasstime.rename(columns = {'elapsed' : 'bigclasstime'})\n",
    "    df = pd.merge(df,bigclass, on = ['userID','bigclass'],how = 'left')\n",
    "\n",
    "\n",
    "    \n",
    "    # testId와 KnowledgeTag의 전체 정답률은 한번에 계산\n",
    "    # 아래 데이터는 제출용 데이터셋에 대해서도 재사용\n",
    "    correct_t = df.groupby(['testId'])['answerCode'].agg(['mean', 'std', 'sum'])\n",
    "    correct_t.columns = [\"test_mean\", \"test_std\", 'test_sum']\n",
    "    correct_k = df.groupby(['KnowledgeTag'])['answerCode'].agg(['mean', 'std', 'sum'])\n",
    "    correct_k.columns = [\"tag_mean\", 'tag_std', 'tag_sum']\n",
    "\n",
    "    df = pd.merge(df, correct_t, on=['testId'], how=\"left\")\n",
    "    df = pd.merge(df, correct_k, on=['KnowledgeTag'], how=\"left\")\n",
    "    df = pd.merge(df, elapsed_med, on =['userID'], how = 'left')\n",
    "    df.fillna(0,inplace = True)\n",
    "    # df.sort_values(by=['userID','Timestamp'], inplace=True)\n",
    "    return df"
   ]
  },
  {
   "cell_type": "code",
   "execution_count": 7,
   "id": "23d827c9-9648-4897-aa1d-259180ad83f1",
   "metadata": {
    "tags": []
   },
   "outputs": [],
   "source": [
    "#elo 함수\n",
    "def elo(df,col):\n",
    "    def get_new_theta(is_good_answer, beta, left_asymptote, theta, nb_previous_answers):\n",
    "        return theta + learning_rate_theta(nb_previous_answers) * (\n",
    "            is_good_answer - probability_of_good_answer(theta, beta, left_asymptote)\n",
    "        )\n",
    "\n",
    "    def get_new_beta(is_good_answer, beta, left_asymptote, theta, nb_previous_answers):\n",
    "        return beta - learning_rate_beta(nb_previous_answers) * (\n",
    "            is_good_answer - probability_of_good_answer(theta, beta, left_asymptote)\n",
    "        )\n",
    "\n",
    "    def learning_rate_theta(nb_answers):\n",
    "        return max(0.3 / (1 + 0.01 * nb_answers), 0.04)\n",
    "\n",
    "    def learning_rate_beta(nb_answers):\n",
    "        return 1 / (1 + 0.05 * nb_answers)\n",
    "\n",
    "    def probability_of_good_answer(theta, beta, left_asymptote):\n",
    "        return left_asymptote + (1 - left_asymptote) * sigmoid(theta - beta)\n",
    "\n",
    "    def sigmoid(x):\n",
    "        return 1 / (1 + np.exp(-x))\n",
    "\n",
    "    def estimate_parameters(answers_df, granularity_feature_name=col):\n",
    "        item_parameters = {\n",
    "            granularity_feature_value: {\"beta\": 0, \"nb_answers\": 0}\n",
    "            for granularity_feature_value in np.unique(\n",
    "                answers_df[granularity_feature_name]\n",
    "            )\n",
    "        }\n",
    "        student_parameters = {\n",
    "            student_id: {\"theta\": 0, \"nb_answers\": 0}\n",
    "            for student_id in np.unique(answers_df.userID)\n",
    "        }\n",
    "\n",
    "        print(\"Parameter estimation is starting...\", flush=True)\n",
    "\n",
    "        for student_id, item_id, left_asymptote, answered_correctly in tqdm(\n",
    "            zip(\n",
    "                answers_df.userID.values,\n",
    "                answers_df[granularity_feature_name].values,\n",
    "                answers_df.left_asymptote.values,\n",
    "                answers_df.answerCode.values,\n",
    "            ),\n",
    "            total=len(answers_df),\n",
    "        ):\n",
    "            theta = student_parameters[student_id][\"theta\"]\n",
    "            beta = item_parameters[item_id][\"beta\"]\n",
    "\n",
    "            item_parameters[item_id][\"beta\"] = get_new_beta(\n",
    "                answered_correctly,\n",
    "                beta,\n",
    "                left_asymptote,\n",
    "                theta,\n",
    "                item_parameters[item_id][\"nb_answers\"],\n",
    "            )\n",
    "            student_parameters[student_id][\"theta\"] = get_new_theta(\n",
    "                answered_correctly,\n",
    "                beta,\n",
    "                left_asymptote,\n",
    "                theta,\n",
    "                student_parameters[student_id][\"nb_answers\"],\n",
    "            )\n",
    "\n",
    "            item_parameters[item_id][\"nb_answers\"] += 1\n",
    "            student_parameters[student_id][\"nb_answers\"] += 1\n",
    "\n",
    "        print(f\"Theta & beta estimations on {granularity_feature_name} are completed.\")\n",
    "        return student_parameters, item_parameters\n",
    "\n",
    "    def gou_func(theta, beta):\n",
    "        return 1 / (1 + np.exp(-(theta - beta)))\n",
    "\n",
    "    df[\"left_asymptote\"] = 0\n",
    "\n",
    "    print(f\"Dataset of shape {df.shape}\")\n",
    "    print(f\"Columns are {list(df.columns)}\")\n",
    "\n",
    "    student_parameters, item_parameters = estimate_parameters(df)\n",
    "\n",
    "    prob = [\n",
    "        gou_func(student_parameters[student][\"theta\"], item_parameters[item][\"beta\"])\n",
    "        for student, item in zip(df.userID.values, df[col].values)\n",
    "    ]\n",
    "\n",
    "    df[\"elo_\"+col] = prob\n",
    "\n",
    "    return df"
   ]
  },
  {
   "cell_type": "code",
   "execution_count": 8,
   "id": "545ba563",
   "metadata": {
    "scrolled": true,
    "tags": []
   },
   "outputs": [
    {
     "name": "stdout",
     "output_type": "stream",
     "text": [
      "Dataset of shape (2526700, 29)\n",
      "Columns are ['userID', 'assessmentItemID', 'testId', 'answerCode', 'Timestamp', 'KnowledgeTag', 'dataset', 'user_correct_answer', 'user_total_answer', 'user_acc', 'elapsed', 'elapsed_cumsum', 'month', 'day', 'hour', 'dayname', 'bigclass', 'bigclasstime', 'bigclass_acc', 'bigclass_count', 'bigclass_sum', 'test_mean', 'test_std', 'test_sum', 'tag_mean', 'tag_std', 'tag_sum', 'elapsed_med', 'left_asymptote']\n",
      "Parameter estimation is starting...\n"
     ]
    },
    {
     "name": "stderr",
     "output_type": "stream",
     "text": [
      "100%|██████████| 2526700/2526700 [00:17<00:00, 147839.85it/s]\n"
     ]
    },
    {
     "name": "stdout",
     "output_type": "stream",
     "text": [
      "Theta & beta estimations on assessmentItemID are completed.\n",
      "Dataset of shape (2526700, 30)\n",
      "Columns are ['userID', 'assessmentItemID', 'testId', 'answerCode', 'Timestamp', 'KnowledgeTag', 'dataset', 'user_correct_answer', 'user_total_answer', 'user_acc', 'elapsed', 'elapsed_cumsum', 'month', 'day', 'hour', 'dayname', 'bigclass', 'bigclasstime', 'bigclass_acc', 'bigclass_count', 'bigclass_sum', 'test_mean', 'test_std', 'test_sum', 'tag_mean', 'tag_std', 'tag_sum', 'elapsed_med', 'left_asymptote', 'elo_assessmentItemID']\n",
      "Parameter estimation is starting...\n"
     ]
    },
    {
     "name": "stderr",
     "output_type": "stream",
     "text": [
      "100%|██████████| 2526700/2526700 [00:16<00:00, 153685.14it/s]\n"
     ]
    },
    {
     "name": "stdout",
     "output_type": "stream",
     "text": [
      "Theta & beta estimations on testId are completed.\n",
      "Dataset of shape (2526700, 31)\n",
      "Columns are ['userID', 'assessmentItemID', 'testId', 'answerCode', 'Timestamp', 'KnowledgeTag', 'dataset', 'user_correct_answer', 'user_total_answer', 'user_acc', 'elapsed', 'elapsed_cumsum', 'month', 'day', 'hour', 'dayname', 'bigclass', 'bigclasstime', 'bigclass_acc', 'bigclass_count', 'bigclass_sum', 'test_mean', 'test_std', 'test_sum', 'tag_mean', 'tag_std', 'tag_sum', 'elapsed_med', 'left_asymptote', 'elo_assessmentItemID', 'elo_testId']\n",
      "Parameter estimation is starting...\n"
     ]
    },
    {
     "name": "stderr",
     "output_type": "stream",
     "text": [
      "100%|██████████| 2526700/2526700 [00:16<00:00, 151449.21it/s]\n"
     ]
    },
    {
     "name": "stdout",
     "output_type": "stream",
     "text": [
      "Theta & beta estimations on KnowledgeTag are completed.\n"
     ]
    },
    {
     "data": {
      "text/html": [
       "<div>\n",
       "<style scoped>\n",
       "    .dataframe tbody tr th:only-of-type {\n",
       "        vertical-align: middle;\n",
       "    }\n",
       "\n",
       "    .dataframe tbody tr th {\n",
       "        vertical-align: top;\n",
       "    }\n",
       "\n",
       "    .dataframe thead th {\n",
       "        text-align: right;\n",
       "    }\n",
       "</style>\n",
       "<table border=\"1\" class=\"dataframe\">\n",
       "  <thead>\n",
       "    <tr style=\"text-align: right;\">\n",
       "      <th></th>\n",
       "      <th>userID</th>\n",
       "      <th>assessmentItemID</th>\n",
       "      <th>testId</th>\n",
       "      <th>answerCode</th>\n",
       "      <th>Timestamp</th>\n",
       "      <th>KnowledgeTag</th>\n",
       "      <th>dataset</th>\n",
       "      <th>user_correct_answer</th>\n",
       "      <th>user_total_answer</th>\n",
       "      <th>user_acc</th>\n",
       "      <th>...</th>\n",
       "      <th>test_std</th>\n",
       "      <th>test_sum</th>\n",
       "      <th>tag_mean</th>\n",
       "      <th>tag_std</th>\n",
       "      <th>tag_sum</th>\n",
       "      <th>elapsed_med</th>\n",
       "      <th>left_asymptote</th>\n",
       "      <th>elo_assessmentItemID</th>\n",
       "      <th>elo_testId</th>\n",
       "      <th>elo_KnowledgeTag</th>\n",
       "    </tr>\n",
       "  </thead>\n",
       "  <tbody>\n",
       "    <tr>\n",
       "      <th>0</th>\n",
       "      <td>0</td>\n",
       "      <td>A060001001</td>\n",
       "      <td>A060000001</td>\n",
       "      <td>1</td>\n",
       "      <td>2020-03-24 00:17:11</td>\n",
       "      <td>7224</td>\n",
       "      <td>1</td>\n",
       "      <td>0.0</td>\n",
       "      <td>0</td>\n",
       "      <td>0.0</td>\n",
       "      <td>...</td>\n",
       "      <td>0.212422</td>\n",
       "      <td>1429</td>\n",
       "      <td>0.957333</td>\n",
       "      <td>0.202239</td>\n",
       "      <td>718</td>\n",
       "      <td>14.0</td>\n",
       "      <td>0</td>\n",
       "      <td>0.980768</td>\n",
       "      <td>0.962544</td>\n",
       "      <td>0.96631</td>\n",
       "    </tr>\n",
       "    <tr>\n",
       "      <th>1</th>\n",
       "      <td>0</td>\n",
       "      <td>A060001002</td>\n",
       "      <td>A060000001</td>\n",
       "      <td>1</td>\n",
       "      <td>2020-03-24 00:17:14</td>\n",
       "      <td>7225</td>\n",
       "      <td>1</td>\n",
       "      <td>1.0</td>\n",
       "      <td>1</td>\n",
       "      <td>1.0</td>\n",
       "      <td>...</td>\n",
       "      <td>0.212422</td>\n",
       "      <td>1429</td>\n",
       "      <td>0.917067</td>\n",
       "      <td>0.275818</td>\n",
       "      <td>3439</td>\n",
       "      <td>14.0</td>\n",
       "      <td>0</td>\n",
       "      <td>0.973315</td>\n",
       "      <td>0.962544</td>\n",
       "      <td>0.93246</td>\n",
       "    </tr>\n",
       "    <tr>\n",
       "      <th>2</th>\n",
       "      <td>0</td>\n",
       "      <td>A060001003</td>\n",
       "      <td>A060000001</td>\n",
       "      <td>1</td>\n",
       "      <td>2020-03-24 00:17:22</td>\n",
       "      <td>7225</td>\n",
       "      <td>1</td>\n",
       "      <td>2.0</td>\n",
       "      <td>2</td>\n",
       "      <td>1.0</td>\n",
       "      <td>...</td>\n",
       "      <td>0.212422</td>\n",
       "      <td>1429</td>\n",
       "      <td>0.917067</td>\n",
       "      <td>0.275818</td>\n",
       "      <td>3439</td>\n",
       "      <td>14.0</td>\n",
       "      <td>0</td>\n",
       "      <td>0.947292</td>\n",
       "      <td>0.962544</td>\n",
       "      <td>0.93246</td>\n",
       "    </tr>\n",
       "    <tr>\n",
       "      <th>3</th>\n",
       "      <td>0</td>\n",
       "      <td>A060001004</td>\n",
       "      <td>A060000001</td>\n",
       "      <td>1</td>\n",
       "      <td>2020-03-24 00:17:29</td>\n",
       "      <td>7225</td>\n",
       "      <td>1</td>\n",
       "      <td>3.0</td>\n",
       "      <td>3</td>\n",
       "      <td>1.0</td>\n",
       "      <td>...</td>\n",
       "      <td>0.212422</td>\n",
       "      <td>1429</td>\n",
       "      <td>0.917067</td>\n",
       "      <td>0.275818</td>\n",
       "      <td>3439</td>\n",
       "      <td>14.0</td>\n",
       "      <td>0</td>\n",
       "      <td>0.974914</td>\n",
       "      <td>0.962544</td>\n",
       "      <td>0.93246</td>\n",
       "    </tr>\n",
       "    <tr>\n",
       "      <th>4</th>\n",
       "      <td>0</td>\n",
       "      <td>A060001005</td>\n",
       "      <td>A060000001</td>\n",
       "      <td>1</td>\n",
       "      <td>2020-03-24 00:17:36</td>\n",
       "      <td>7225</td>\n",
       "      <td>1</td>\n",
       "      <td>4.0</td>\n",
       "      <td>4</td>\n",
       "      <td>1.0</td>\n",
       "      <td>...</td>\n",
       "      <td>0.212422</td>\n",
       "      <td>1429</td>\n",
       "      <td>0.917067</td>\n",
       "      <td>0.275818</td>\n",
       "      <td>3439</td>\n",
       "      <td>14.0</td>\n",
       "      <td>0</td>\n",
       "      <td>0.961391</td>\n",
       "      <td>0.962544</td>\n",
       "      <td>0.93246</td>\n",
       "    </tr>\n",
       "  </tbody>\n",
       "</table>\n",
       "<p>5 rows × 32 columns</p>\n",
       "</div>"
      ],
      "text/plain": [
       "   userID assessmentItemID      testId  answerCode           Timestamp  \\\n",
       "0       0       A060001001  A060000001           1 2020-03-24 00:17:11   \n",
       "1       0       A060001002  A060000001           1 2020-03-24 00:17:14   \n",
       "2       0       A060001003  A060000001           1 2020-03-24 00:17:22   \n",
       "3       0       A060001004  A060000001           1 2020-03-24 00:17:29   \n",
       "4       0       A060001005  A060000001           1 2020-03-24 00:17:36   \n",
       "\n",
       "   KnowledgeTag  dataset  user_correct_answer  user_total_answer  user_acc  \\\n",
       "0          7224        1                  0.0                  0       0.0   \n",
       "1          7225        1                  1.0                  1       1.0   \n",
       "2          7225        1                  2.0                  2       1.0   \n",
       "3          7225        1                  3.0                  3       1.0   \n",
       "4          7225        1                  4.0                  4       1.0   \n",
       "\n",
       "   ...  test_std  test_sum  tag_mean   tag_std  tag_sum  elapsed_med  \\\n",
       "0  ...  0.212422      1429  0.957333  0.202239      718         14.0   \n",
       "1  ...  0.212422      1429  0.917067  0.275818     3439         14.0   \n",
       "2  ...  0.212422      1429  0.917067  0.275818     3439         14.0   \n",
       "3  ...  0.212422      1429  0.917067  0.275818     3439         14.0   \n",
       "4  ...  0.212422      1429  0.917067  0.275818     3439         14.0   \n",
       "\n",
       "   left_asymptote  elo_assessmentItemID  elo_testId  elo_KnowledgeTag  \n",
       "0               0              0.980768    0.962544           0.96631  \n",
       "1               0              0.973315    0.962544           0.93246  \n",
       "2               0              0.947292    0.962544           0.93246  \n",
       "3               0              0.974914    0.962544           0.93246  \n",
       "4               0              0.961391    0.962544           0.93246  \n",
       "\n",
       "[5 rows x 32 columns]"
      ]
     },
     "execution_count": 8,
     "metadata": {},
     "output_type": "execute_result"
    }
   ],
   "source": [
    "df2 = feature_engineering(all_df)\n",
    "for col in ['assessmentItemID','testId','KnowledgeTag']:\n",
    "    df2 = elo(df2,col)\n",
    "df2.head()"
   ]
  },
  {
   "cell_type": "markdown",
   "id": "6ba674f0",
   "metadata": {},
   "source": [
    "## 3. Train/Test 데이터 셋 분리"
   ]
  },
  {
   "cell_type": "markdown",
   "id": "1acc4635-03af-430e-8963-c2ec36191e23",
   "metadata": {},
   "source": [
    "## 3. Train_Test 분리"
   ]
  },
  {
   "cell_type": "code",
   "execution_count": 9,
   "id": "bab97269-c70a-40f3-a582-18fb35e4dd2b",
   "metadata": {
    "tags": []
   },
   "outputs": [],
   "source": [
    "### train과 test 데이터셋은 사용자 별로 묶어서 분리를 해주어야함\n",
    "def custom_train_test_split(df, ratio=0.7, split=True):\n",
    "    \n",
    "    \"\"\"\n",
    "    사용자 기준으로 train_test_split\n",
    "    \"\"\"\n",
    "    \n",
    "    users = list(zip(df['userID'].value_counts().index, df['userID'].value_counts()))\n",
    "    # users.sort(key=lambda x: x[0])\n",
    "    random.shuffle(users)\n",
    "    \n",
    "    max_train_data_len = ratio*len(df)\n",
    "    sum_of_train_data = 0\n",
    "    user_ids =[]\n",
    "\n",
    "    for user_id, count in users:\n",
    "        sum_of_train_data += count\n",
    "        if max_train_data_len < sum_of_train_data:\n",
    "            break\n",
    "        user_ids.append(user_id)\n",
    "\n",
    "\n",
    "    train = df[df['userID'].isin(user_ids)]\n",
    "    test = df[df['userID'].isin(user_ids) == False]\n",
    "\n",
    "    #test데이터셋은 각 유저의 마지막 interaction만 추출\n",
    "    test = test[test['userID'] != test['userID'].shift(-1)]\n",
    "    return train, test"
   ]
  },
  {
   "cell_type": "code",
   "execution_count": 12,
   "id": "8d5f2858-e86b-4bac-8518-88210cfc5202",
   "metadata": {
    "tags": []
   },
   "outputs": [],
   "source": [
    "# 유저별 분리\n",
    "train_df = df2[df2['dataset'] == 1]\n",
    "random.seed(42)\n",
    "train, test = custom_train_test_split(train_df)\n",
    "\n",
    "# 사용할 Feature 설정\n",
    "FEATS = [\n",
    "        'KnowledgeTag', \n",
    "         'user_correct_answer', \n",
    "         'user_total_answer', \n",
    "         'user_acc',\n",
    "         'test_mean', \n",
    "         'test_sum', \n",
    "         'tag_mean',\n",
    "         'tag_sum',\n",
    "         'elapsed',\n",
    "         'elapsed_cumsum',\n",
    "         'month',\n",
    "         'day',\n",
    "         'hour',\n",
    "         'dayname',\n",
    "         'elapsed_med',\n",
    "         'bigclass',\n",
    "         'bigclasstime',\n",
    "         'bigclass_acc',\n",
    "         'bigclass_sum',\n",
    "         'bigclass_count',\n",
    "        'elo_assessmentItemID',\n",
    "        'elo_testId',\n",
    "        'elo_KnowledgeTag'\n",
    "             ]\n",
    "# X, y 값 분리\n",
    "# y_train = train['answerCode']\n",
    "# train = train.drop(['answerCode'], axis=1)\n",
    "\n",
    "# train = train[train['userID'] != train['userID'].shift(-1)]\n",
    "y_train = train['answerCode']\n",
    "train = train.drop(['answerCode'], axis=1)\n",
    "\n",
    "y_test = test['answerCode']\n",
    "test = test.drop(['answerCode'], axis=1)"
   ]
  },
  {
   "cell_type": "markdown",
   "id": "2f19ffed",
   "metadata": {
    "tags": []
   },
   "source": [
    "## 4. 훈련 및 검증"
   ]
  },
  {
   "cell_type": "code",
   "execution_count": 14,
   "id": "5197a9a5",
   "metadata": {
    "tags": []
   },
   "outputs": [
    {
     "name": "stdout",
     "output_type": "stream",
     "text": [
      "[0]\tvalidation_0-auc:0.80962\n",
      "[100]\tvalidation_0-auc:0.84514\n",
      "[200]\tvalidation_0-auc:0.84679\n",
      "[300]\tvalidation_0-auc:0.84659\n",
      "[325]\tvalidation_0-auc:0.84636\n",
      "VALID AUC : 0.8473186245279267 ACC : 0.772795216741405\n",
      "\n"
     ]
    }
   ],
   "source": [
    "#모델 생성\n",
    "model = XGBClassifier(\n",
    "    n_estimators = 500,\n",
    "    booster = 'gbtree',\n",
    "    objective = 'binary:logistic',\n",
    "    random_state = 42,\n",
    "tree_method='gpu_hist')\n",
    "\n",
    "#모델 학습\n",
    "model.fit(\n",
    "    X=train[FEATS],\n",
    "    y=y_train,\n",
    "    eval_set=[(test[FEATS],y_test)],\n",
    "    eval_metric=\"auc\",\n",
    "    early_stopping_rounds=100,\n",
    "    verbose=100)\n",
    "\n",
    "preds = model.predict_proba(test[FEATS])[:,1]\n",
    "acc = accuracy_score(y_test, np.where(preds >= 0.5, 1, 0))\n",
    "auc = roc_auc_score(y_test, preds)\n",
    "\n",
    "print(f'VALID AUC : {auc} ACC : {acc}\\n')\n",
    "\n",
    "# wandb.log({\"valid_accuracy\": acc})\n",
    "# wandb.log({\"valid_roc_auc\": auc})"
   ]
  },
  {
   "cell_type": "code",
   "execution_count": 117,
   "id": "a992dd1a-ec63-46db-9df1-39ecce1fc716",
   "metadata": {
    "tags": []
   },
   "outputs": [],
   "source": [
    "# wandb.finish()"
   ]
  },
  {
   "cell_type": "markdown",
   "id": "585872c9-b45e-4521-a2b0-fe7b2cf1f215",
   "metadata": {},
   "source": [
    "## Inference"
   ]
  },
  {
   "cell_type": "code",
   "execution_count": 24,
   "id": "618f421e-b598-4b32-9342-dc96aafca6bd",
   "metadata": {
    "tags": []
   },
   "outputs": [
    {
     "name": "stdout",
     "output_type": "stream",
     "text": [
      "Dataset of shape (260114, 28)\n",
      "Columns are ['userID', 'assessmentItemID', 'testId', 'answerCode', 'Timestamp', 'KnowledgeTag', 'user_correct_answer', 'user_total_answer', 'user_acc', 'elapsed', 'elapsed_cumsum', 'month', 'day', 'hour', 'dayname', 'bigclass', 'bigclasstime', 'bigclass_acc', 'bigclass_count', 'bigclass_sum', 'test_mean', 'test_std', 'test_sum', 'tag_mean', 'tag_std', 'tag_sum', 'elapsed_med', 'left_asymptote']\n",
      "Parameter estimation is starting...\n"
     ]
    },
    {
     "name": "stderr",
     "output_type": "stream",
     "text": [
      "100%|██████████| 260114/260114 [00:01<00:00, 150048.08it/s]\n"
     ]
    },
    {
     "name": "stdout",
     "output_type": "stream",
     "text": [
      "Theta & beta estimations on assessmentItemID are completed.\n"
     ]
    }
   ],
   "source": [
    "# LOAD TESTDATA\n",
    "test_df = pd.read_csv(DATA_PATH+'test_data.csv' , dtype=dtype, parse_dates=['Timestamp'])\n",
    "test_df = test_df.sort_values(by=['userID', 'Timestamp']).reset_index(drop=True)\n",
    "# test_csv_file_path = os.path.join(DATA_PATH, 'test_data.csv')\n",
    "# test_df = pd.read_csv(test_csv_file_path)\n",
    "\n",
    "# FEATURE ENGINEERING\n",
    "test_df = feature_engineering(test_df)\n",
    "test_df = elo(test_df)\n",
    "\n",
    "# LEAVE LAST INTERACTION ONLY\n",
    "test_df_last = test_df[test_df['userID'] != test_df['userID'].shift(-1)]\n",
    "\n",
    "# # DROP ANSWERCODE\n",
    "# test_df = test_df.drop(['answerCode'], axis=1)"
   ]
  },
  {
   "cell_type": "code",
   "execution_count": 25,
   "id": "3bdd27d6-acbd-45ef-aa4d-4d3b7126c54d",
   "metadata": {
    "tags": []
   },
   "outputs": [],
   "source": [
    "test_df_y = test_df_last['answerCode']\n",
    "test_df_X = test_df_last.drop('answerCode',axis=1)"
   ]
  },
  {
   "cell_type": "code",
   "execution_count": 31,
   "id": "8cec47bf-1fd8-4655-b95e-6f984111c18f",
   "metadata": {
    "tags": []
   },
   "outputs": [],
   "source": [
    "# MAKE PREDICTION\n",
    "total_preds = model.predict_proba(test_df_X[FEATS])[:,1]"
   ]
  },
  {
   "cell_type": "code",
   "execution_count": 32,
   "id": "e6fed0c0-bd1f-48e5-9b98-8255c7a97870",
   "metadata": {
    "tags": []
   },
   "outputs": [
    {
     "name": "stdout",
     "output_type": "stream",
     "text": [
      "writing prediction : /opt/ml/input/output/LGBM/XGBoost.csv\n"
     ]
    }
   ],
   "source": [
    "# SAVE OUTPUT\n",
    "output_dir = '/opt/ml/input/output/LGBM'\n",
    "write_path = os.path.join(output_dir, \"XGBoost.csv\")\n",
    "if not os.path.exists(output_dir):\n",
    "    os.makedirs(output_dir)\n",
    "with open(write_path, 'w', encoding='utf8') as w:\n",
    "    print(\"writing prediction : {}\".format(write_path))\n",
    "    w.write(\"id,prediction\\n\")\n",
    "    for id, p in enumerate(total_preds):\n",
    "        w.write('{},{}\\n'.format(id,p))"
   ]
  },
  {
   "cell_type": "code",
   "execution_count": null,
   "id": "5d36ef48-1616-4fa7-96fa-9f2e812a3985",
   "metadata": {},
   "outputs": [],
   "source": []
  }
 ],
 "metadata": {
  "kernelspec": {
   "display_name": "Python 3 (ipykernel)",
   "language": "python",
   "name": "python3"
  },
  "language_info": {
   "codemirror_mode": {
    "name": "ipython",
    "version": 3
   },
   "file_extension": ".py",
   "mimetype": "text/x-python",
   "name": "python",
   "nbconvert_exporter": "python",
   "pygments_lexer": "ipython3",
   "version": "3.8.5"
  },
  "toc": {
   "base_numbering": 1,
   "nav_menu": {},
   "number_sections": false,
   "sideBar": true,
   "skip_h1_title": false,
   "title_cell": "Table of Contents",
   "title_sidebar": "Contents",
   "toc_cell": false,
   "toc_position": {
    "height": "calc(100% - 180px)",
    "left": "10px",
    "top": "150px",
    "width": "191.594px"
   },
   "toc_section_display": true,
   "toc_window_display": true
  }
 },
 "nbformat": 4,
 "nbformat_minor": 5
}
